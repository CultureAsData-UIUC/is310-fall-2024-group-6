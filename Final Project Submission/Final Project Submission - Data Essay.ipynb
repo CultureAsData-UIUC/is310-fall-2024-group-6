{
 "cells": [
  {
   "cell_type": "markdown",
   "metadata": {},
   "source": [
    "**Data Essay: Analyzing Themes and Morals in Children's Literature Historical Context and Dataset Creation**\n",
    "\n",
    "The focus of our project was to explore how themes and morals in children's literature have evolved over time, combining an analysis of both historical and contemporary works. For this purpose, we manually created a dataset of 20 stories targeted at young readers, offering a carefully curated sample for thematic and linguistic analysis.\n",
    "We began by researching the historical context of children’s literature, noting shifts over time in the representation of inclusivity, diversity, and real-world issues such as mental health, environmental sustainability, and social justice. This informed our dataset creation process and motivated us to include both older, historically significant stories and more recent works.\n",
    "\n",
    "**Our dataset was created using two primary sources:**\n",
    "\n",
    "Project Gutenberg, a well-known library of public domain books, and\n",
    "The International Children’s Digital Library (ICDL), which specializes in children’s literature from across the globe.\n",
    "Each group member contributed by finding storybooks from these sources. We aimed to include a mix of both contemporary and historical works to ensure a diverse range of stories and themes. We manually compiled the data using Google Sheets, recording key details like the title, author, and metadata features for each book. This hands-on approach allowed us to carefully curate the dataset, ensuring every entry aligned with the goals of our project.\n",
    "\n",
    "**Two unique features in our dataset are:**\n",
    "\n",
    "Sentiment Analysis Scores: These scores range from -1 to +1 and measure the overall emotional tone of a story, with -1 being very negative, +1 being very positive, and 0 being neutral.\n",
    "\n",
    "**Subjectivity Scores:** \n",
    "\n",
    "These scores range from 0 to 1, where 0 represents completely factual content and 1 indicates highly opinion-based or subjective writing.\n",
    "These features gave us a way to quantify the emotional and narrative characteristics of the books, allowing for deeper insights into how these texts balance educational and entertaining elements. While the limited size of the dataset allowed us to perform detailed, qualitative analysis, it also presented challenges in terms of generalizability.\n",
    "Looking forward, the next critical step to enhance the project is to expand the dataset. Increasing the number of entries, particularly by incorporating more contemporary stories and works from diverse cultural and geographical backgrounds, will allow us to capture a broader range of themes and trends. Additionally, we could explore how genre as a variable has shifted over time and its impact on thematic and moral analysis. For instance, examining changes in the prevalence of adventure, fantasy, or realism genres could reveal significant historical and cultural influences. This expansion will improve the generalizability of our findings and enable more robust statistical analysis to deepen our insights into thematic and moral trends in children's literature.\n",
    "Methodologies and Complexities\n",
    "\n",
    "**Sentiment Analysis** \n",
    "\n",
    "Sentiment Analysis: We performed sentiment analysis using the TextBlob library, which calculates sentiment polarity and subjectivity scores. This allowed us to assess the emotional tone and degree of opinion-based content in each story. A complexity we faced was distinguishing between narrative tone and dialogue tone, as both contribute differently to the overall sentiment.\n",
    "\n",
    "**Findings/Visualizations:**\n",
    "\n",
    "\n",
    "\n",
    "**Labor Division**\n",
    "\n",
    "Data Collection: Each member contributed equally to data collection, adding a similar number of entries to the dataset from Project Gutenberg and ICDL.\n",
    "\n",
    "Sentiment and Subjectivity Analysis: Each team member ran the sentiment analysis script using TextBlob on their respective entries, ensuring consistent results across the dataset.\n",
    "\n",
    "Visualizations: The creation of visualizations was a collaborative effort, with each member contributing ideas and refining the outputs to best represent theme frequencies and sentiment distributions.\n",
    "\n",
    "Data Essay: We divided the essay into sections, with each team member writing and refining different parts. This collaborative approach ensured that the essay captured all perspectives and contributions effectively.\n",
    "\n",
    "**Goals & Future Work**\n",
    "\n",
    "The goal of this data essay is to document our journey in creating and analyzing the dataset, making it accessible to researchers and educators interested in children's literature. By highlighting our challenges and decisions, we hope to provide a roadmap for others exploring similar themes. Our project underscores the importance of combining computational methods with domain knowledge to uncover meaningful patterns in literature. Expanding our dataset remains a key priority for future work, as it will enhance our ability to generalize findings and contribute more broadly to the understanding of children's literature across time periods. Additionally, incorporating genre as a variable in future analyses could uncover how the evolution of storytelling formats influences the portrayal of themes and morals in children's literature.\n"
   ]
  }
 ],
 "metadata": {
  "language_info": {
   "name": "python"
  }
 },
 "nbformat": 4,
 "nbformat_minor": 2
}
