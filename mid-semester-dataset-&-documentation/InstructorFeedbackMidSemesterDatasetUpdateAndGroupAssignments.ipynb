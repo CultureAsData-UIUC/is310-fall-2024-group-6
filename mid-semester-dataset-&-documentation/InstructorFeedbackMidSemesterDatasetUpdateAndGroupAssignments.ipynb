{
 "cells": [
  {
   "cell_type": "markdown",
   "metadata": {},
   "source": [
    "# Instructor Feedback for Mid-Semester Dataset Update and Group Assignments to Date for Group 6\n",
    "\n",
    "Please find below three sections of feedback regarding your mid-semester dataset update and group assignments. Overall, I'm glad to see progress on the project and it seems like you are working together, which is great. I also think your choice of topic remains a rich one and I'm excited to see how you're working together to realize your proposed project. However, I have some questions about the division of labor, as well as the overall scope and documentation of your project. As a reminder, your goal is to try and create something like the datasets we have been exploring on the *Responsible Datasets in Context Project*. While I do not expect what you to produce to be as polished as what is available on the website, considering there are four of you in the group, I am hoping you can clarify some of your current choices and provide more detail on how you are envisioning your final project and achieve the stated project goals and requirements.\n",
    "\n",
    "In terms of returning feedback to the instructor, you have two options: create a new GitHub issue responding to my questions and tag me in the issue, or complete the Google form, available via Canvas, where you can update your project plan and respond to my questions or offer suggested corrections to the stated assessments. You are also welcome to use the form to provide feedback that will not be shared with the rest of your group if you think that would be helpful or want to share something with me privately."
   ]
  },
  {
   "cell_type": "markdown",
   "metadata": {},
   "source": [
    "## Load Libraries and Datasets\n",
    "\n",
    "To run this notebook, you will need to have `pandas`, `altair`, and `rich` installed. You can find instructions on how to do so in our course website."
   ]
  },
  {
   "cell_type": "code",
   "execution_count": 2,
   "metadata": {},
   "outputs": [],
   "source": [
    "import pandas as pd\n",
    "import altair as alt\n",
    "from rich.console import Console\n",
    "from rich.table import Table\n",
    "\n",
    "console = Console()\n",
    "\n",
    "# Load the data\n",
    "contributors_df = pd.read_csv(\"./datasets/contributors_group_6.csv\")\n",
    "commits_df = pd.read_csv(\"./datasets/commits_group_6.csv\")\n",
    "issues_df = pd.read_csv(\"./datasets/issues_group_6.csv\")"
   ]
  },
  {
   "cell_type": "markdown",
   "metadata": {},
   "source": [
    "## Overall Group Feedback"
   ]
  },
  {
   "cell_type": "markdown",
   "metadata": {},
   "source": [
    "Overall, your group seems to be working well together, though I notice some patterns below that I have questions about. Your GitHub repository still needs a `gitignore` file and I would recommend though that you update your `README.md` to describe the overall project and the structure of your repository. I also would recommend you update the repository description to be accurate for your project. I was glad to see you had a license for the repository though, and I was especially impressed with the organization of your repository!\n",
    "\n",
    "I will say that while I respect and understand your current approach to dividing labor, it does make it somewhat difficult for me to assess since it seems like primarily some group members have been doing the coding and issue management (at least based on the data you will see below), whereas others are doing more of the research and data entry intensive labor. If you could please just briefly confirm that the division of labor is relatively equitable on the Google form on Canvas, then I'm happy to share the grades between all members of the group. But I would like to get that confirmation since it is not clear to me from the data that I have available.\n",
    "\n",
    "In the following graphs, you will see some of how your group has been working together from what I can tell via GitHub. I do not think this data represents all of your group's work or activities, so I would encourage you to both think about how to document work in more detail and also to contact the instructors if you feel this data is not representative of your group's work and would like other aspects to be included in your assessment."
   ]
  },
  {
   "cell_type": "markdown",
   "metadata": {},
   "source": [
    "### Contributions Per Group Member"
   ]
  },
  {
   "cell_type": "code",
   "execution_count": 6,
   "metadata": {},
   "outputs": [
    {
     "data": {
      "text/html": [
       "<pre style=\"white-space:pre;overflow-x:auto;line-height:normal;font-family:Menlo,'DejaVu Sans Mono',consolas,'Courier New',monospace\"><span style=\"font-style: italic\">               Contributors               </span>\n",
       "┏━━━━━━━━━━━━━━┳━━━━━━━━━━━━━━━━━━━━━━━━━┓\n",
       "┃<span style=\"font-weight: bold\"> Contributor  </span>┃<span style=\"font-weight: bold\"> Number of Contributions </span>┃\n",
       "┡━━━━━━━━━━━━━━╇━━━━━━━━━━━━━━━━━━━━━━━━━┩\n",
       "│<span style=\"color: #008080; text-decoration-color: #008080\"> GloriaLiu930 </span>│<span style=\"color: #800080; text-decoration-color: #800080\"> 20                      </span>│\n",
       "│<span style=\"color: #008080; text-decoration-color: #008080\"> Cindy1226    </span>│<span style=\"color: #800080; text-decoration-color: #800080\"> 8                       </span>│\n",
       "│<span style=\"color: #008080; text-decoration-color: #008080\"> LucasWashor  </span>│<span style=\"color: #800080; text-decoration-color: #800080\"> 8                       </span>│\n",
       "│<span style=\"color: #008080; text-decoration-color: #008080\"> frangara     </span>│<span style=\"color: #800080; text-decoration-color: #800080\"> 2                       </span>│\n",
       "└──────────────┴─────────────────────────┘\n",
       "</pre>\n"
      ],
      "text/plain": [
       "\u001b[3m               Contributors               \u001b[0m\n",
       "┏━━━━━━━━━━━━━━┳━━━━━━━━━━━━━━━━━━━━━━━━━┓\n",
       "┃\u001b[1m \u001b[0m\u001b[1mContributor \u001b[0m\u001b[1m \u001b[0m┃\u001b[1m \u001b[0m\u001b[1mNumber of Contributions\u001b[0m\u001b[1m \u001b[0m┃\n",
       "┡━━━━━━━━━━━━━━╇━━━━━━━━━━━━━━━━━━━━━━━━━┩\n",
       "│\u001b[36m \u001b[0m\u001b[36mGloriaLiu930\u001b[0m\u001b[36m \u001b[0m│\u001b[35m \u001b[0m\u001b[35m20                     \u001b[0m\u001b[35m \u001b[0m│\n",
       "│\u001b[36m \u001b[0m\u001b[36mCindy1226   \u001b[0m\u001b[36m \u001b[0m│\u001b[35m \u001b[0m\u001b[35m8                      \u001b[0m\u001b[35m \u001b[0m│\n",
       "│\u001b[36m \u001b[0m\u001b[36mLucasWashor \u001b[0m\u001b[36m \u001b[0m│\u001b[35m \u001b[0m\u001b[35m8                      \u001b[0m\u001b[35m \u001b[0m│\n",
       "│\u001b[36m \u001b[0m\u001b[36mfrangara    \u001b[0m\u001b[36m \u001b[0m│\u001b[35m \u001b[0m\u001b[35m2                      \u001b[0m\u001b[35m \u001b[0m│\n",
       "└──────────────┴─────────────────────────┘\n"
      ]
     },
     "metadata": {},
     "output_type": "display_data"
    }
   ],
   "source": [
    "# Create a table for the contributions\n",
    "contributors_table = Table(title=\"Contributors\")\n",
    "# Add columns with the contributors and the number of contributions\n",
    "contributors_table.add_column(\"Contributor\", style=\"cyan\")\n",
    "contributors_table.add_column(\"Number of Contributions\", style=\"magenta\")\n",
    "# Sort the contributors by the number of contributions, with the highest first\n",
    "contributors_df = contributors_df.sort_values(by=\"contributions\", ascending=False)\n",
    "# Loop through the contributors and add them to the table\n",
    "for index, row in contributors_df.iterrows():\n",
    "\t# Add the contributor to the table and set the contributions to be a string\n",
    "\tcontributors_table.add_row(row[\"login\"], str(row[\"contributions\"]))\n",
    "# Print the table\n",
    "console.print(contributors_table)"
   ]
  },
  {
   "cell_type": "markdown",
   "metadata": {},
   "source": [
    "Above is the total number of contributions (that is commits) per group member. I see that there are quite a few commits and also that almost every group member has committed, which is great. I do notice that Gloria is commit a lot more than everyone else. Ideally, I would like to see all members of the group committing to the repository somewhat equally moving forward if it is possible, but happy to respect your division of labor if that is something you have all decided on."
   ]
  },
  {
   "cell_type": "markdown",
   "metadata": {},
   "source": [
    "### Commits Over Time"
   ]
  },
  {
   "cell_type": "code",
   "execution_count": 4,
   "metadata": {},
   "outputs": [
    {
     "data": {
      "text/html": [
       "\n",
       "<style>\n",
       "  #altair-viz-18a5fec27e0d4744973d63006636097e.vega-embed {\n",
       "    width: 100%;\n",
       "    display: flex;\n",
       "  }\n",
       "\n",
       "  #altair-viz-18a5fec27e0d4744973d63006636097e.vega-embed details,\n",
       "  #altair-viz-18a5fec27e0d4744973d63006636097e.vega-embed details summary {\n",
       "    position: relative;\n",
       "  }\n",
       "</style>\n",
       "<div id=\"altair-viz-18a5fec27e0d4744973d63006636097e\"></div>\n",
       "<script type=\"text/javascript\">\n",
       "  var VEGA_DEBUG = (typeof VEGA_DEBUG == \"undefined\") ? {} : VEGA_DEBUG;\n",
       "  (function(spec, embedOpt){\n",
       "    let outputDiv = document.currentScript.previousElementSibling;\n",
       "    if (outputDiv.id !== \"altair-viz-18a5fec27e0d4744973d63006636097e\") {\n",
       "      outputDiv = document.getElementById(\"altair-viz-18a5fec27e0d4744973d63006636097e\");\n",
       "    }\n",
       "    const paths = {\n",
       "      \"vega\": \"https://cdn.jsdelivr.net/npm/vega@5?noext\",\n",
       "      \"vega-lib\": \"https://cdn.jsdelivr.net/npm/vega-lib?noext\",\n",
       "      \"vega-lite\": \"https://cdn.jsdelivr.net/npm/vega-lite@5.20.1?noext\",\n",
       "      \"vega-embed\": \"https://cdn.jsdelivr.net/npm/vega-embed@6?noext\",\n",
       "    };\n",
       "\n",
       "    function maybeLoadScript(lib, version) {\n",
       "      var key = `${lib.replace(\"-\", \"\")}_version`;\n",
       "      return (VEGA_DEBUG[key] == version) ?\n",
       "        Promise.resolve(paths[lib]) :\n",
       "        new Promise(function(resolve, reject) {\n",
       "          var s = document.createElement('script');\n",
       "          document.getElementsByTagName(\"head\")[0].appendChild(s);\n",
       "          s.async = true;\n",
       "          s.onload = () => {\n",
       "            VEGA_DEBUG[key] = version;\n",
       "            return resolve(paths[lib]);\n",
       "          };\n",
       "          s.onerror = () => reject(`Error loading script: ${paths[lib]}`);\n",
       "          s.src = paths[lib];\n",
       "        });\n",
       "    }\n",
       "\n",
       "    function showError(err) {\n",
       "      outputDiv.innerHTML = `<div class=\"error\" style=\"color:red;\">${err}</div>`;\n",
       "      throw err;\n",
       "    }\n",
       "\n",
       "    function displayChart(vegaEmbed) {\n",
       "      vegaEmbed(outputDiv, spec, embedOpt)\n",
       "        .catch(err => showError(`Javascript Error: ${err.message}<br>This usually means there's a typo in your chart specification. See the javascript console for the full traceback.`));\n",
       "    }\n",
       "\n",
       "    if(typeof define === \"function\" && define.amd) {\n",
       "      requirejs.config({paths});\n",
       "      require([\"vega-embed\"], displayChart, err => showError(`Error loading script: ${err.message}`));\n",
       "    } else {\n",
       "      maybeLoadScript(\"vega\", \"5\")\n",
       "        .then(() => maybeLoadScript(\"vega-lite\", \"5.20.1\"))\n",
       "        .then(() => maybeLoadScript(\"vega-embed\", \"6\"))\n",
       "        .catch(showError)\n",
       "        .then(() => displayChart(vegaEmbed));\n",
       "    }\n",
       "  })({\"config\": {\"view\": {\"continuousWidth\": 300, \"continuousHeight\": 300}}, \"hconcat\": [{\"data\": {\"name\": \"data-2ccce9eaec56df16d50ff8487e331d36\"}, \"mark\": {\"type\": \"bar\"}, \"encoding\": {\"color\": {\"field\": \"login\", \"type\": \"nominal\"}, \"opacity\": {\"condition\": {\"param\": \"param_1\", \"value\": 1}, \"value\": 0.1}, \"tooltip\": [{\"field\": \"commit_date\", \"type\": \"temporal\"}, {\"field\": \"commit_metric_value\", \"type\": \"quantitative\"}, {\"field\": \"login\", \"type\": \"nominal\"}, {\"field\": \"message\", \"type\": \"nominal\"}], \"x\": {\"field\": \"commit_date\", \"type\": \"temporal\"}, \"y\": {\"field\": \"commit_metric_value\", \"type\": \"quantitative\"}}, \"name\": \"view_1\", \"title\": \"Commit additions Over Time\"}, {\"data\": {\"name\": \"data-0c87bc3e0df5441554067926ac44161a\"}, \"mark\": {\"type\": \"bar\"}, \"encoding\": {\"color\": {\"field\": \"login\", \"type\": \"nominal\"}, \"opacity\": {\"condition\": {\"param\": \"param_2\", \"value\": 1}, \"value\": 0.1}, \"tooltip\": [{\"field\": \"commit_date\", \"type\": \"temporal\"}, {\"field\": \"commit_metric_value\", \"type\": \"quantitative\"}, {\"field\": \"login\", \"type\": \"nominal\"}, {\"field\": \"message\", \"type\": \"nominal\"}], \"x\": {\"field\": \"commit_date\", \"type\": \"temporal\"}, \"y\": {\"field\": \"commit_metric_value\", \"type\": \"quantitative\"}}, \"name\": \"view_2\", \"title\": \"Commit deletions Over Time\"}, {\"data\": {\"name\": \"data-5652ce1665bae2ecf51f5daf3b27a41c\"}, \"mark\": {\"type\": \"bar\"}, \"encoding\": {\"color\": {\"field\": \"login\", \"type\": \"nominal\"}, \"opacity\": {\"condition\": {\"param\": \"param_3\", \"value\": 1}, \"value\": 0.1}, \"tooltip\": [{\"field\": \"commit_date\", \"type\": \"temporal\"}, {\"field\": \"commit_metric_value\", \"type\": \"quantitative\"}, {\"field\": \"login\", \"type\": \"nominal\"}, {\"field\": \"message\", \"type\": \"nominal\"}], \"x\": {\"field\": \"commit_date\", \"type\": \"temporal\"}, \"y\": {\"field\": \"commit_metric_value\", \"type\": \"quantitative\"}}, \"name\": \"view_3\", \"title\": \"Commit changedFiles Over Time\"}], \"params\": [{\"name\": \"param_1\", \"select\": {\"type\": \"point\", \"fields\": [\"login\"]}, \"bind\": \"legend\", \"views\": [\"view_1\"]}, {\"name\": \"param_2\", \"select\": {\"type\": \"point\", \"fields\": [\"login\"]}, \"bind\": \"legend\", \"views\": [\"view_2\"]}, {\"name\": \"param_3\", \"select\": {\"type\": \"point\", \"fields\": [\"login\"]}, \"bind\": \"legend\", \"views\": [\"view_3\"]}], \"resolve\": {\"scale\": {\"y\": \"independent\"}}, \"$schema\": \"https://vega.github.io/schema/vega-lite/v5.20.1.json\", \"datasets\": {\"data-2ccce9eaec56df16d50ff8487e331d36\": [{\"commit_date\": \"2024-09-10T02:31:18+00:00\", \"commit_metric_value\": 6, \"login\": \"GloriaLiu930\", \"message\": \"README.md\"}, {\"commit_date\": \"2024-09-10T02:19:34+00:00\", \"commit_metric_value\": 3, \"login\": \"GloriaLiu930\", \"message\": \" README.md\"}, {\"commit_date\": \"2024-09-10T01:34:17+00:00\", \"commit_metric_value\": 2, \"login\": \"GloriaLiu930\", \"message\": \"README.md\"}, {\"commit_date\": \"2024-09-09T20:09:15+00:00\", \"commit_metric_value\": 0, \"login\": \"GloriaLiu930\", \"message\": \"README.md\"}, {\"commit_date\": \"2024-09-09T20:02:28+00:00\", \"commit_metric_value\": 87, \"login\": \"GloriaLiu930\", \"message\": \"README.md\"}, {\"commit_date\": \"2024-10-29T00:10:14+00:00\", \"commit_metric_value\": 2, \"login\": \"GloriaLiu930\", \"message\": \"Update Documentation for Initial Dataset.md\"}, {\"commit_date\": \"2024-10-29T00:09:30+00:00\", \"commit_metric_value\": 7, \"login\": \"GloriaLiu930\", \"message\": \"Update Documentation for Initial Dataset.md\"}, {\"commit_date\": \"2024-10-29T00:08:43+00:00\", \"commit_metric_value\": 0, \"login\": \"GloriaLiu930\", \"message\": \"Rename Documentation for Initial Dataset to Documentation for Initial Dataset.md\"}, {\"commit_date\": \"2024-10-29T00:08:17+00:00\", \"commit_metric_value\": 1, \"login\": \"GloriaLiu930\", \"message\": \"Update Documentation for Initial Dataset\"}, {\"commit_date\": \"2024-10-29T00:07:17+00:00\", \"commit_metric_value\": 0, \"login\": \"GloriaLiu930\", \"message\": \"Rename README to Documentation for Initial Dataset\"}, {\"commit_date\": \"2024-10-29T00:06:33+00:00\", \"commit_metric_value\": 0, \"login\": \"GloriaLiu930\", \"message\": \"README\"}, {\"commit_date\": \"2024-10-29T00:05:30+00:00\", \"commit_metric_value\": 0, \"login\": \"GloriaLiu930\", \"message\": \"Rename Documentation for Initial Dataset to Documentation for Initial Dataset.md\"}, {\"commit_date\": \"2024-10-29T00:03:42+00:00\", \"commit_metric_value\": 29, \"login\": \"GloriaLiu930\", \"message\": \"Create Documentation for Initial Dataset\"}, {\"commit_date\": \"2024-10-15T17:11:56+00:00\", \"commit_metric_value\": 62, \"login\": \"GloriaLiu930\", \"message\": \"Update proprietary_platform_exploration.md\"}, {\"commit_date\": \"2024-09-26T05:38:21+00:00\", \"commit_metric_value\": 45, \"login\": \"GloriaLiu930\", \"message\": \"Update critical-cultural-data-explorations.md\"}, {\"commit_date\": \"2024-09-26T05:14:06+00:00\", \"commit_metric_value\": 20, \"login\": \"GloriaLiu930\", \"message\": \"Update critical-cultural-data-explorations.md\"}, {\"commit_date\": \"2024-09-12T19:07:49+00:00\", \"commit_metric_value\": 19, \"login\": \"GloriaLiu930\", \"message\": \"README.md\"}, {\"commit_date\": \"2024-09-10T19:11:06+00:00\", \"commit_metric_value\": 5, \"login\": \"GloriaLiu930\", \"message\": \"README.md\"}, {\"commit_date\": \"2024-09-10T18:41:51+00:00\", \"commit_metric_value\": 1, \"login\": \"GloriaLiu930\", \"message\": \"README.md\"}, {\"commit_date\": \"2024-09-10T18:41:03+00:00\", \"commit_metric_value\": 8, \"login\": \"GloriaLiu930\", \"message\": \"README.md\"}, {\"commit_date\": \"2024-10-29T04:10:28+00:00\", \"commit_metric_value\": 12, \"login\": \"Cindy1226\", \"message\": \"Update Documentation for Initial Dataset.md\"}, {\"commit_date\": \"2024-10-29T04:07:22+00:00\", \"commit_metric_value\": 7, \"login\": \"Cindy1226\", \"message\": \"Update Documentation for Initial Dataset.md\"}, {\"commit_date\": \"2024-09-24T19:30:28+00:00\", \"commit_metric_value\": 68, \"login\": \"Cindy1226\", \"message\": \"Update critical-cultural-data-explorations.md\"}, {\"commit_date\": \"2024-09-24T19:29:09+00:00\", \"commit_metric_value\": 33, \"login\": \"Cindy1226\", \"message\": \"Create critical-cultural-data-explorations.md\"}, {\"commit_date\": \"2024-09-24T00:46:27+00:00\", \"commit_metric_value\": 0, \"login\": \"Cindy1226\", \"message\": \"Update README.md\"}, {\"commit_date\": \"2024-09-12T15:14:00+00:00\", \"commit_metric_value\": 1, \"login\": \"Cindy1226\", \"message\": \"Update README.md\"}, {\"commit_date\": \"2024-09-12T15:13:23+00:00\", \"commit_metric_value\": 1, \"login\": \"Cindy1226\", \"message\": \"Update README.md\"}, {\"commit_date\": \"2024-09-10T19:16:02+00:00\", \"commit_metric_value\": 1, \"login\": \"Cindy1226\", \"message\": \"Update README.md\"}, {\"commit_date\": \"2024-10-28T17:09:48+00:00\", \"commit_metric_value\": 47, \"login\": \"frangara\", \"message\": \"created initial dataset\"}, {\"commit_date\": \"2024-10-15T18:12:59+00:00\", \"commit_metric_value\": 432, \"login\": \"frangara\", \"message\": \"added reflection and licence\"}, {\"commit_date\": \"2024-10-15T17:45:08+00:00\", \"commit_metric_value\": 0, \"login\": \"LucasWashor\", \"message\": \"Add files via upload\"}, {\"commit_date\": \"2024-10-15T17:42:14+00:00\", \"commit_metric_value\": 1, \"login\": \"LucasWashor\", \"message\": \"Create data_reflection_documentation.md\"}, {\"commit_date\": \"2024-10-15T17:02:26+00:00\", \"commit_metric_value\": 1, \"login\": \"LucasWashor\", \"message\": \"Create proprietary_platform_exploration.md\"}, {\"commit_date\": \"2024-10-15T17:01:54+00:00\", \"commit_metric_value\": 0, \"login\": \"LucasWashor\", \"message\": \"Delete proprietary-perspectival-dataset-creation\"}, {\"commit_date\": \"2024-10-15T16:59:30+00:00\", \"commit_metric_value\": 0, \"login\": \"LucasWashor\", \"message\": \"Rename roprietary-perspectival-dataset-creation to proprietary-perspectival-dataset-creation\"}, {\"commit_date\": \"2024-10-15T16:58:16+00:00\", \"commit_metric_value\": 1, \"login\": \"LucasWashor\", \"message\": \"Create roprietary-perspectival-dataset-creation\"}, {\"commit_date\": \"2024-10-03T19:36:19+00:00\", \"commit_metric_value\": 1, \"login\": \"LucasWashor\", \"message\": \"Create Mid-Semester Dataset and Documentation\"}, {\"commit_date\": \"2024-09-25T03:18:05+00:00\", \"commit_metric_value\": 10, \"login\": \"LucasWashor\", \"message\": \"Update Material part README.md\"}, {\"commit_date\": \"2024-09-24T19:33:07+00:00\", \"commit_metric_value\": 1, \"login\": \"LucasWashor\", \"message\": \"Update README.md\"}, {\"commit_date\": \"2024-09-24T19:32:01+00:00\", \"commit_metric_value\": 41, \"login\": \"LucasWashor\", \"message\": \"Update README.md\"}, {\"commit_date\": \"2024-09-24T02:20:58+00:00\", \"commit_metric_value\": 0, \"login\": \"LucasWashor\", \"message\": \"Delete Mass Digitization & Digital Libraries\"}, {\"commit_date\": \"2024-09-24T02:17:25+00:00\", \"commit_metric_value\": 60, \"login\": \"LucasWashor\", \"message\": \"Created file folder for Mass Digitization & Digital Libraries\"}, {\"commit_date\": \"2024-09-24T04:16:08+00:00\", \"commit_metric_value\": 91995, \"login\": \"LucasWashor\", \"message\": \"Initial commit\"}, {\"commit_date\": \"2024-09-10T19:41:29+00:00\", \"commit_metric_value\": 41, \"login\": \"LucasWashor\", \"message\": \"Merge pull request #1 from CultureAsData-UIUC/adding-project-management-workflow\\n\\nAdded project management workflow issue template\"}], \"data-0c87bc3e0df5441554067926ac44161a\": [{\"commit_date\": \"2024-09-10T02:31:18+00:00\", \"commit_metric_value\": 4, \"login\": \"GloriaLiu930\", \"message\": \"README.md\"}, {\"commit_date\": \"2024-09-10T02:19:34+00:00\", \"commit_metric_value\": 1, \"login\": \"GloriaLiu930\", \"message\": \" README.md\"}, {\"commit_date\": \"2024-09-10T01:34:17+00:00\", \"commit_metric_value\": 0, \"login\": \"GloriaLiu930\", \"message\": \"README.md\"}, {\"commit_date\": \"2024-09-09T20:09:15+00:00\", \"commit_metric_value\": 0, \"login\": \"GloriaLiu930\", \"message\": \"README.md\"}, {\"commit_date\": \"2024-09-09T20:02:28+00:00\", \"commit_metric_value\": 0, \"login\": \"GloriaLiu930\", \"message\": \"README.md\"}, {\"commit_date\": \"2024-10-29T00:10:14+00:00\", \"commit_metric_value\": 2, \"login\": \"GloriaLiu930\", \"message\": \"Update Documentation for Initial Dataset.md\"}, {\"commit_date\": \"2024-10-29T00:09:30+00:00\", \"commit_metric_value\": 7, \"login\": \"GloriaLiu930\", \"message\": \"Update Documentation for Initial Dataset.md\"}, {\"commit_date\": \"2024-10-29T00:08:43+00:00\", \"commit_metric_value\": 0, \"login\": \"GloriaLiu930\", \"message\": \"Rename Documentation for Initial Dataset to Documentation for Initial Dataset.md\"}, {\"commit_date\": \"2024-10-29T00:08:17+00:00\", \"commit_metric_value\": 1, \"login\": \"GloriaLiu930\", \"message\": \"Update Documentation for Initial Dataset\"}, {\"commit_date\": \"2024-10-29T00:07:17+00:00\", \"commit_metric_value\": 0, \"login\": \"GloriaLiu930\", \"message\": \"Rename README to Documentation for Initial Dataset\"}, {\"commit_date\": \"2024-10-29T00:06:33+00:00\", \"commit_metric_value\": 0, \"login\": \"GloriaLiu930\", \"message\": \"README\"}, {\"commit_date\": \"2024-10-29T00:05:30+00:00\", \"commit_metric_value\": 0, \"login\": \"GloriaLiu930\", \"message\": \"Rename Documentation for Initial Dataset to Documentation for Initial Dataset.md\"}, {\"commit_date\": \"2024-10-29T00:03:42+00:00\", \"commit_metric_value\": 0, \"login\": \"GloriaLiu930\", \"message\": \"Create Documentation for Initial Dataset\"}, {\"commit_date\": \"2024-10-15T17:11:56+00:00\", \"commit_metric_value\": 0, \"login\": \"GloriaLiu930\", \"message\": \"Update proprietary_platform_exploration.md\"}, {\"commit_date\": \"2024-09-26T05:38:21+00:00\", \"commit_metric_value\": 28, \"login\": \"GloriaLiu930\", \"message\": \"Update critical-cultural-data-explorations.md\"}, {\"commit_date\": \"2024-09-26T05:14:06+00:00\", \"commit_metric_value\": 19, \"login\": \"GloriaLiu930\", \"message\": \"Update critical-cultural-data-explorations.md\"}, {\"commit_date\": \"2024-09-12T19:07:49+00:00\", \"commit_metric_value\": 5, \"login\": \"GloriaLiu930\", \"message\": \"README.md\"}, {\"commit_date\": \"2024-09-10T19:11:06+00:00\", \"commit_metric_value\": 5, \"login\": \"GloriaLiu930\", \"message\": \"README.md\"}, {\"commit_date\": \"2024-09-10T18:41:51+00:00\", \"commit_metric_value\": 1, \"login\": \"GloriaLiu930\", \"message\": \"README.md\"}, {\"commit_date\": \"2024-09-10T18:41:03+00:00\", \"commit_metric_value\": 1, \"login\": \"GloriaLiu930\", \"message\": \"README.md\"}, {\"commit_date\": \"2024-10-29T04:10:28+00:00\", \"commit_metric_value\": 5, \"login\": \"Cindy1226\", \"message\": \"Update Documentation for Initial Dataset.md\"}, {\"commit_date\": \"2024-10-29T04:07:22+00:00\", \"commit_metric_value\": 0, \"login\": \"Cindy1226\", \"message\": \"Update Documentation for Initial Dataset.md\"}, {\"commit_date\": \"2024-09-24T19:30:28+00:00\", \"commit_metric_value\": 0, \"login\": \"Cindy1226\", \"message\": \"Update critical-cultural-data-explorations.md\"}, {\"commit_date\": \"2024-09-24T19:29:09+00:00\", \"commit_metric_value\": 0, \"login\": \"Cindy1226\", \"message\": \"Create critical-cultural-data-explorations.md\"}, {\"commit_date\": \"2024-09-24T00:46:27+00:00\", \"commit_metric_value\": 1, \"login\": \"Cindy1226\", \"message\": \"Update README.md\"}, {\"commit_date\": \"2024-09-12T15:14:00+00:00\", \"commit_metric_value\": 1, \"login\": \"Cindy1226\", \"message\": \"Update README.md\"}, {\"commit_date\": \"2024-09-12T15:13:23+00:00\", \"commit_metric_value\": 1, \"login\": \"Cindy1226\", \"message\": \"Update README.md\"}, {\"commit_date\": \"2024-09-10T19:16:02+00:00\", \"commit_metric_value\": 1, \"login\": \"Cindy1226\", \"message\": \"Update README.md\"}, {\"commit_date\": \"2024-10-28T17:09:48+00:00\", \"commit_metric_value\": 0, \"login\": \"frangara\", \"message\": \"created initial dataset\"}, {\"commit_date\": \"2024-10-15T18:12:59+00:00\", \"commit_metric_value\": 0, \"login\": \"frangara\", \"message\": \"added reflection and licence\"}, {\"commit_date\": \"2024-10-15T17:45:08+00:00\", \"commit_metric_value\": 0, \"login\": \"LucasWashor\", \"message\": \"Add files via upload\"}, {\"commit_date\": \"2024-10-15T17:42:14+00:00\", \"commit_metric_value\": 0, \"login\": \"LucasWashor\", \"message\": \"Create data_reflection_documentation.md\"}, {\"commit_date\": \"2024-10-15T17:02:26+00:00\", \"commit_metric_value\": 0, \"login\": \"LucasWashor\", \"message\": \"Create proprietary_platform_exploration.md\"}, {\"commit_date\": \"2024-10-15T17:01:54+00:00\", \"commit_metric_value\": 1, \"login\": \"LucasWashor\", \"message\": \"Delete proprietary-perspectival-dataset-creation\"}, {\"commit_date\": \"2024-10-15T16:59:30+00:00\", \"commit_metric_value\": 0, \"login\": \"LucasWashor\", \"message\": \"Rename roprietary-perspectival-dataset-creation to proprietary-perspectival-dataset-creation\"}, {\"commit_date\": \"2024-10-15T16:58:16+00:00\", \"commit_metric_value\": 0, \"login\": \"LucasWashor\", \"message\": \"Create roprietary-perspectival-dataset-creation\"}, {\"commit_date\": \"2024-10-03T19:36:19+00:00\", \"commit_metric_value\": 0, \"login\": \"LucasWashor\", \"message\": \"Create Mid-Semester Dataset and Documentation\"}, {\"commit_date\": \"2024-09-25T03:18:05+00:00\", \"commit_metric_value\": 0, \"login\": \"LucasWashor\", \"message\": \"Update Material part README.md\"}, {\"commit_date\": \"2024-09-24T19:33:07+00:00\", \"commit_metric_value\": 1, \"login\": \"LucasWashor\", \"message\": \"Update README.md\"}, {\"commit_date\": \"2024-09-24T19:32:01+00:00\", \"commit_metric_value\": 1, \"login\": \"LucasWashor\", \"message\": \"Update README.md\"}, {\"commit_date\": \"2024-09-24T02:20:58+00:00\", \"commit_metric_value\": 60, \"login\": \"LucasWashor\", \"message\": \"Delete Mass Digitization & Digital Libraries\"}, {\"commit_date\": \"2024-09-24T02:17:25+00:00\", \"commit_metric_value\": 0, \"login\": \"LucasWashor\", \"message\": \"Created file folder for Mass Digitization & Digital Libraries\"}, {\"commit_date\": \"2024-09-24T04:16:08+00:00\", \"commit_metric_value\": 0, \"login\": \"LucasWashor\", \"message\": \"Initial commit\"}, {\"commit_date\": \"2024-09-10T19:41:29+00:00\", \"commit_metric_value\": 0, \"login\": \"LucasWashor\", \"message\": \"Merge pull request #1 from CultureAsData-UIUC/adding-project-management-workflow\\n\\nAdded project management workflow issue template\"}], \"data-5652ce1665bae2ecf51f5daf3b27a41c\": [{\"commit_date\": \"2024-09-10T02:31:18+00:00\", \"commit_metric_value\": 1, \"login\": \"GloriaLiu930\", \"message\": \"README.md\"}, {\"commit_date\": \"2024-09-10T02:19:34+00:00\", \"commit_metric_value\": 1, \"login\": \"GloriaLiu930\", \"message\": \" README.md\"}, {\"commit_date\": \"2024-09-10T01:34:17+00:00\", \"commit_metric_value\": 1, \"login\": \"GloriaLiu930\", \"message\": \"README.md\"}, {\"commit_date\": \"2024-09-09T20:09:15+00:00\", \"commit_metric_value\": 0, \"login\": \"GloriaLiu930\", \"message\": \"README.md\"}, {\"commit_date\": \"2024-09-09T20:02:28+00:00\", \"commit_metric_value\": 1, \"login\": \"GloriaLiu930\", \"message\": \"README.md\"}, {\"commit_date\": \"2024-10-29T00:10:14+00:00\", \"commit_metric_value\": 1, \"login\": \"GloriaLiu930\", \"message\": \"Update Documentation for Initial Dataset.md\"}, {\"commit_date\": \"2024-10-29T00:09:30+00:00\", \"commit_metric_value\": 1, \"login\": \"GloriaLiu930\", \"message\": \"Update Documentation for Initial Dataset.md\"}, {\"commit_date\": \"2024-10-29T00:08:43+00:00\", \"commit_metric_value\": 1, \"login\": \"GloriaLiu930\", \"message\": \"Rename Documentation for Initial Dataset to Documentation for Initial Dataset.md\"}, {\"commit_date\": \"2024-10-29T00:08:17+00:00\", \"commit_metric_value\": 1, \"login\": \"GloriaLiu930\", \"message\": \"Update Documentation for Initial Dataset\"}, {\"commit_date\": \"2024-10-29T00:07:17+00:00\", \"commit_metric_value\": 1, \"login\": \"GloriaLiu930\", \"message\": \"Rename README to Documentation for Initial Dataset\"}, {\"commit_date\": \"2024-10-29T00:06:33+00:00\", \"commit_metric_value\": 1, \"login\": \"GloriaLiu930\", \"message\": \"README\"}, {\"commit_date\": \"2024-10-29T00:05:30+00:00\", \"commit_metric_value\": 1, \"login\": \"GloriaLiu930\", \"message\": \"Rename Documentation for Initial Dataset to Documentation for Initial Dataset.md\"}, {\"commit_date\": \"2024-10-29T00:03:42+00:00\", \"commit_metric_value\": 1, \"login\": \"GloriaLiu930\", \"message\": \"Create Documentation for Initial Dataset\"}, {\"commit_date\": \"2024-10-15T17:11:56+00:00\", \"commit_metric_value\": 1, \"login\": \"GloriaLiu930\", \"message\": \"Update proprietary_platform_exploration.md\"}, {\"commit_date\": \"2024-09-26T05:38:21+00:00\", \"commit_metric_value\": 1, \"login\": \"GloriaLiu930\", \"message\": \"Update critical-cultural-data-explorations.md\"}, {\"commit_date\": \"2024-09-26T05:14:06+00:00\", \"commit_metric_value\": 1, \"login\": \"GloriaLiu930\", \"message\": \"Update critical-cultural-data-explorations.md\"}, {\"commit_date\": \"2024-09-12T19:07:49+00:00\", \"commit_metric_value\": 1, \"login\": \"GloriaLiu930\", \"message\": \"README.md\"}, {\"commit_date\": \"2024-09-10T19:11:06+00:00\", \"commit_metric_value\": 1, \"login\": \"GloriaLiu930\", \"message\": \"README.md\"}, {\"commit_date\": \"2024-09-10T18:41:51+00:00\", \"commit_metric_value\": 1, \"login\": \"GloriaLiu930\", \"message\": \"README.md\"}, {\"commit_date\": \"2024-09-10T18:41:03+00:00\", \"commit_metric_value\": 1, \"login\": \"GloriaLiu930\", \"message\": \"README.md\"}, {\"commit_date\": \"2024-10-29T04:10:28+00:00\", \"commit_metric_value\": 1, \"login\": \"Cindy1226\", \"message\": \"Update Documentation for Initial Dataset.md\"}, {\"commit_date\": \"2024-10-29T04:07:22+00:00\", \"commit_metric_value\": 1, \"login\": \"Cindy1226\", \"message\": \"Update Documentation for Initial Dataset.md\"}, {\"commit_date\": \"2024-09-24T19:30:28+00:00\", \"commit_metric_value\": 1, \"login\": \"Cindy1226\", \"message\": \"Update critical-cultural-data-explorations.md\"}, {\"commit_date\": \"2024-09-24T19:29:09+00:00\", \"commit_metric_value\": 1, \"login\": \"Cindy1226\", \"message\": \"Create critical-cultural-data-explorations.md\"}, {\"commit_date\": \"2024-09-24T00:46:27+00:00\", \"commit_metric_value\": 1, \"login\": \"Cindy1226\", \"message\": \"Update README.md\"}, {\"commit_date\": \"2024-09-12T15:14:00+00:00\", \"commit_metric_value\": 1, \"login\": \"Cindy1226\", \"message\": \"Update README.md\"}, {\"commit_date\": \"2024-09-12T15:13:23+00:00\", \"commit_metric_value\": 1, \"login\": \"Cindy1226\", \"message\": \"Update README.md\"}, {\"commit_date\": \"2024-09-10T19:16:02+00:00\", \"commit_metric_value\": 1, \"login\": \"Cindy1226\", \"message\": \"Update README.md\"}, {\"commit_date\": \"2024-10-28T17:09:48+00:00\", \"commit_metric_value\": 1, \"login\": \"frangara\", \"message\": \"created initial dataset\"}, {\"commit_date\": \"2024-10-15T18:12:59+00:00\", \"commit_metric_value\": 3, \"login\": \"frangara\", \"message\": \"added reflection and licence\"}, {\"commit_date\": \"2024-10-15T17:45:08+00:00\", \"commit_metric_value\": 2, \"login\": \"LucasWashor\", \"message\": \"Add files via upload\"}, {\"commit_date\": \"2024-10-15T17:42:14+00:00\", \"commit_metric_value\": 1, \"login\": \"LucasWashor\", \"message\": \"Create data_reflection_documentation.md\"}, {\"commit_date\": \"2024-10-15T17:02:26+00:00\", \"commit_metric_value\": 1, \"login\": \"LucasWashor\", \"message\": \"Create proprietary_platform_exploration.md\"}, {\"commit_date\": \"2024-10-15T17:01:54+00:00\", \"commit_metric_value\": 1, \"login\": \"LucasWashor\", \"message\": \"Delete proprietary-perspectival-dataset-creation\"}, {\"commit_date\": \"2024-10-15T16:59:30+00:00\", \"commit_metric_value\": 1, \"login\": \"LucasWashor\", \"message\": \"Rename roprietary-perspectival-dataset-creation to proprietary-perspectival-dataset-creation\"}, {\"commit_date\": \"2024-10-15T16:58:16+00:00\", \"commit_metric_value\": 1, \"login\": \"LucasWashor\", \"message\": \"Create roprietary-perspectival-dataset-creation\"}, {\"commit_date\": \"2024-10-03T19:36:19+00:00\", \"commit_metric_value\": 1, \"login\": \"LucasWashor\", \"message\": \"Create Mid-Semester Dataset and Documentation\"}, {\"commit_date\": \"2024-09-25T03:18:05+00:00\", \"commit_metric_value\": 1, \"login\": \"LucasWashor\", \"message\": \"Update Material part README.md\"}, {\"commit_date\": \"2024-09-24T19:33:07+00:00\", \"commit_metric_value\": 1, \"login\": \"LucasWashor\", \"message\": \"Update README.md\"}, {\"commit_date\": \"2024-09-24T19:32:01+00:00\", \"commit_metric_value\": 1, \"login\": \"LucasWashor\", \"message\": \"Update README.md\"}, {\"commit_date\": \"2024-09-24T02:20:58+00:00\", \"commit_metric_value\": 1, \"login\": \"LucasWashor\", \"message\": \"Delete Mass Digitization & Digital Libraries\"}, {\"commit_date\": \"2024-09-24T02:17:25+00:00\", \"commit_metric_value\": 1, \"login\": \"LucasWashor\", \"message\": \"Created file folder for Mass Digitization & Digital Libraries\"}, {\"commit_date\": \"2024-09-24T04:16:08+00:00\", \"commit_metric_value\": 11, \"login\": \"LucasWashor\", \"message\": \"Initial commit\"}, {\"commit_date\": \"2024-09-10T19:41:29+00:00\", \"commit_metric_value\": 2, \"login\": \"LucasWashor\", \"message\": \"Merge pull request #1 from CultureAsData-UIUC/adding-project-management-workflow\\n\\nAdded project management workflow issue template\"}]}}, {\"mode\": \"vega-lite\"});\n",
       "</script>"
      ],
      "text/plain": [
       "alt.HConcatChart(...)"
      ]
     },
     "execution_count": 4,
     "metadata": {},
     "output_type": "execute_result"
    }
   ],
   "source": [
    "# Melt the commits dataframe from wide to long format so that we can have all commit type activities in one column called commit_metric\n",
    "melted_commits_df = commits_df.melt(id_vars=['oid', 'message', 'committedDate', 'login', ], value_vars=['additions', 'deletions', 'changedFiles'], var_name='commit_metric', value_name='commit_metric_value')\n",
    "# Convert the commit date to a datetime object\n",
    "melted_commits_df['commit_date'] = pd.to_datetime(melted_commits_df['committedDate'], errors='coerce')\n",
    "# Get the unique commit types to create charts for each type\n",
    "commit_types = melted_commits_df['commit_metric'].unique().tolist()\n",
    "\n",
    "# Create a list to store the charts\n",
    "charts = []\n",
    "# Loop through the commit types and create a chart for each type\n",
    "for commit_type in commit_types:\n",
    "\t# Create an interactive selection for each chart where you can select the login to highlight each group member's contributions\n",
    "\tselection = alt.selection_point(fields=['login'], bind='legend')\n",
    "\t\n",
    "\t# Filter the DataFrame for the current commit type and subset to only the columns we need to keep the chart smaller in size\n",
    "\tfiltered_df = melted_commits_df[melted_commits_df['commit_metric'] == commit_type][['commit_date', 'commit_metric_value', 'login', 'message']]\n",
    "\t\n",
    "\t# Create a bar chart for the current commit type\n",
    "\tchart = alt.Chart(filtered_df).mark_bar().encode(\n",
    "\t\tx='commit_date:T', # Use the commit date as the x-axis\n",
    "\t\ty='commit_metric_value:Q', # Use the commit metric value as the y-axis\n",
    "\t\tcolor='login:N', # Color the bars by the login\n",
    "\t\topacity=alt.condition(selection, alt.value(1), alt.value(0.1)), # Set the opacity to 1 if the login is selected and 0.1 if not\n",
    "\t\ttooltip=['commit_date', 'commit_metric_value', 'login', 'message'] # Show the commit date, commit metric value, login, and message in the tooltip\n",
    "\t).add_params(selection).properties(\n",
    "\t\ttitle=f\"Commit {commit_type} Over Time\"\n",
    "\t)\n",
    "\t# Add the chart to the list of charts\n",
    "\tcharts.append(chart)\n",
    "# Combine all the charts into one chart and set the y-axis to be independent so that we can see all the changes even if the y axis scale is different for each commit type activity\n",
    "alt.hconcat(*charts).resolve_scale(y='independent')"
   ]
  },
  {
   "cell_type": "markdown",
   "metadata": {},
   "source": [
    "When we look at the distribution of commit activities (so additions, deletions, and number of files changed), it does look like that, even though there have been more commits by Gloria, that other members, like Lucas and Cindy, have been contributing consistently as well. Finally, seems like Francis has recently started to add more commits, which is great to see. Overall, this looks like a good distribution of commits over time."
   ]
  },
  {
   "cell_type": "markdown",
   "metadata": {},
   "source": [
    "### Issues and Project Management Over Time"
   ]
  },
  {
   "cell_type": "code",
   "execution_count": 5,
   "metadata": {},
   "outputs": [
    {
     "data": {
      "text/html": [
       "\n",
       "<style>\n",
       "  #altair-viz-f331a5893a9743fc95a78e40dc90045d.vega-embed {\n",
       "    width: 100%;\n",
       "    display: flex;\n",
       "  }\n",
       "\n",
       "  #altair-viz-f331a5893a9743fc95a78e40dc90045d.vega-embed details,\n",
       "  #altair-viz-f331a5893a9743fc95a78e40dc90045d.vega-embed details summary {\n",
       "    position: relative;\n",
       "  }\n",
       "</style>\n",
       "<div id=\"altair-viz-f331a5893a9743fc95a78e40dc90045d\"></div>\n",
       "<script type=\"text/javascript\">\n",
       "  var VEGA_DEBUG = (typeof VEGA_DEBUG == \"undefined\") ? {} : VEGA_DEBUG;\n",
       "  (function(spec, embedOpt){\n",
       "    let outputDiv = document.currentScript.previousElementSibling;\n",
       "    if (outputDiv.id !== \"altair-viz-f331a5893a9743fc95a78e40dc90045d\") {\n",
       "      outputDiv = document.getElementById(\"altair-viz-f331a5893a9743fc95a78e40dc90045d\");\n",
       "    }\n",
       "    const paths = {\n",
       "      \"vega\": \"https://cdn.jsdelivr.net/npm/vega@5?noext\",\n",
       "      \"vega-lib\": \"https://cdn.jsdelivr.net/npm/vega-lib?noext\",\n",
       "      \"vega-lite\": \"https://cdn.jsdelivr.net/npm/vega-lite@5.20.1?noext\",\n",
       "      \"vega-embed\": \"https://cdn.jsdelivr.net/npm/vega-embed@6?noext\",\n",
       "    };\n",
       "\n",
       "    function maybeLoadScript(lib, version) {\n",
       "      var key = `${lib.replace(\"-\", \"\")}_version`;\n",
       "      return (VEGA_DEBUG[key] == version) ?\n",
       "        Promise.resolve(paths[lib]) :\n",
       "        new Promise(function(resolve, reject) {\n",
       "          var s = document.createElement('script');\n",
       "          document.getElementsByTagName(\"head\")[0].appendChild(s);\n",
       "          s.async = true;\n",
       "          s.onload = () => {\n",
       "            VEGA_DEBUG[key] = version;\n",
       "            return resolve(paths[lib]);\n",
       "          };\n",
       "          s.onerror = () => reject(`Error loading script: ${paths[lib]}`);\n",
       "          s.src = paths[lib];\n",
       "        });\n",
       "    }\n",
       "\n",
       "    function showError(err) {\n",
       "      outputDiv.innerHTML = `<div class=\"error\" style=\"color:red;\">${err}</div>`;\n",
       "      throw err;\n",
       "    }\n",
       "\n",
       "    function displayChart(vegaEmbed) {\n",
       "      vegaEmbed(outputDiv, spec, embedOpt)\n",
       "        .catch(err => showError(`Javascript Error: ${err.message}<br>This usually means there's a typo in your chart specification. See the javascript console for the full traceback.`));\n",
       "    }\n",
       "\n",
       "    if(typeof define === \"function\" && define.amd) {\n",
       "      requirejs.config({paths});\n",
       "      require([\"vega-embed\"], displayChart, err => showError(`Error loading script: ${err.message}`));\n",
       "    } else {\n",
       "      maybeLoadScript(\"vega\", \"5\")\n",
       "        .then(() => maybeLoadScript(\"vega-lite\", \"5.20.1\"))\n",
       "        .then(() => maybeLoadScript(\"vega-embed\", \"6\"))\n",
       "        .catch(showError)\n",
       "        .then(() => displayChart(vegaEmbed));\n",
       "    }\n",
       "  })({\"config\": {\"view\": {\"continuousWidth\": 300, \"continuousHeight\": 300}}, \"vconcat\": [{\"data\": {\"name\": \"data-7dba188bc1c9046a0d50d1ec4cfe48eb\"}, \"mark\": {\"type\": \"line\", \"point\": true}, \"encoding\": {\"color\": {\"field\": \"user_login\", \"type\": \"nominal\"}, \"opacity\": {\"condition\": {\"param\": \"param_4\", \"value\": 1}, \"value\": 0.1}, \"tooltip\": [{\"field\": \"user_login\", \"type\": \"nominal\"}, {\"field\": \"closed_by_login\", \"type\": \"quantitative\"}, {\"field\": \"issue_date\", \"timeUnit\": \"yearmonthdatehoursminutes\", \"type\": \"temporal\"}, {\"field\": \"issue_date_type\", \"type\": \"nominal\"}, {\"field\": \"title\", \"type\": \"nominal\"}, {\"field\": \"body\", \"type\": \"quantitative\"}, {\"field\": \"state\", \"type\": \"quantitative\"}, {\"field\": \"assignee\", \"type\": \"quantitative\"}, {\"field\": \"assignees_logins\", \"type\": \"quantitative\"}, {\"field\": \"html_url\", \"type\": \"nominal\"}], \"x\": {\"field\": \"issue_date\", \"type\": \"temporal\"}, \"y\": {\"axis\": {\"labels\": false, \"title\": null}, \"field\": \"title\", \"type\": \"nominal\"}}, \"name\": \"view_4\", \"title\": {\"text\": \"Issue: Critical Cultural Data Explorations: AI Analysis (Lucas and Francis)\", \"subtitle\": [\"Issue is associated with a project board and has status Done.\"]}}, {\"data\": {\"name\": \"data-0997de4b058a821ba6bb2dba8865fced\"}, \"mark\": {\"type\": \"line\", \"point\": true}, \"encoding\": {\"color\": {\"field\": \"user_login\", \"type\": \"nominal\"}, \"opacity\": {\"condition\": {\"param\": \"param_5\", \"value\": 1}, \"value\": 0.1}, \"tooltip\": [{\"field\": \"user_login\", \"type\": \"nominal\"}, {\"field\": \"closed_by_login\", \"type\": \"quantitative\"}, {\"field\": \"issue_date\", \"timeUnit\": \"yearmonthdatehoursminutes\", \"type\": \"temporal\"}, {\"field\": \"issue_date_type\", \"type\": \"nominal\"}, {\"field\": \"title\", \"type\": \"nominal\"}, {\"field\": \"body\", \"type\": \"quantitative\"}, {\"field\": \"state\", \"type\": \"quantitative\"}, {\"field\": \"assignee\", \"type\": \"quantitative\"}, {\"field\": \"assignees_logins\", \"type\": \"quantitative\"}, {\"field\": \"html_url\", \"type\": \"nominal\"}], \"x\": {\"field\": \"issue_date\", \"type\": \"temporal\"}, \"y\": {\"axis\": {\"labels\": false, \"title\": null}, \"field\": \"title\", \"type\": \"nominal\"}}, \"name\": \"view_5\", \"title\": {\"text\": \"Issue: Critical Cultural Data Explorations: GitHub Documentation (Sophia)\", \"subtitle\": [\"Issue is associated with a project board and has status Done.\"]}}, {\"data\": {\"name\": \"data-1ee634a2a20c39dc3610113902714b0c\"}, \"mark\": {\"type\": \"line\", \"point\": true}, \"encoding\": {\"color\": {\"field\": \"user_login\", \"type\": \"nominal\"}, \"opacity\": {\"condition\": {\"param\": \"param_6\", \"value\": 1}, \"value\": 0.1}, \"tooltip\": [{\"field\": \"user_login\", \"type\": \"nominal\"}, {\"field\": \"closed_by_login\", \"type\": \"quantitative\"}, {\"field\": \"issue_date\", \"timeUnit\": \"yearmonthdatehoursminutes\", \"type\": \"temporal\"}, {\"field\": \"issue_date_type\", \"type\": \"nominal\"}, {\"field\": \"title\", \"type\": \"nominal\"}, {\"field\": \"body\", \"type\": \"quantitative\"}, {\"field\": \"state\", \"type\": \"quantitative\"}, {\"field\": \"assignee\", \"type\": \"quantitative\"}, {\"field\": \"assignees_logins\", \"type\": \"quantitative\"}, {\"field\": \"html_url\", \"type\": \"nominal\"}], \"x\": {\"field\": \"issue_date\", \"type\": \"temporal\"}, \"y\": {\"axis\": {\"labels\": false, \"title\": null}, \"field\": \"title\", \"type\": \"nominal\"}}, \"name\": \"view_6\", \"title\": {\"text\": \"Issue: Semester Project: Division of Labor - Cindy\", \"subtitle\": [\"Issue is associated with a project board and has status Done.\"]}}, {\"data\": {\"name\": \"data-9bc1588c4f000701f48b48f96269ef38\"}, \"mark\": {\"type\": \"line\", \"point\": true}, \"encoding\": {\"color\": {\"field\": \"user_login\", \"type\": \"nominal\"}, \"opacity\": {\"condition\": {\"param\": \"param_7\", \"value\": 1}, \"value\": 0.1}, \"tooltip\": [{\"field\": \"user_login\", \"type\": \"nominal\"}, {\"field\": \"closed_by_login\", \"type\": \"quantitative\"}, {\"field\": \"issue_date\", \"timeUnit\": \"yearmonthdatehoursminutes\", \"type\": \"temporal\"}, {\"field\": \"issue_date_type\", \"type\": \"nominal\"}, {\"field\": \"title\", \"type\": \"nominal\"}, {\"field\": \"body\", \"type\": \"quantitative\"}, {\"field\": \"state\", \"type\": \"quantitative\"}, {\"field\": \"assignee\", \"type\": \"quantitative\"}, {\"field\": \"assignees_logins\", \"type\": \"quantitative\"}, {\"field\": \"html_url\", \"type\": \"nominal\"}], \"x\": {\"field\": \"issue_date\", \"type\": \"temporal\"}, \"y\": {\"axis\": {\"labels\": false, \"title\": null}, \"field\": \"title\", \"type\": \"nominal\"}}, \"name\": \"view_7\", \"title\": {\"text\": \"Issue: Semester Project: Topics - Gloria\", \"subtitle\": [\"Issue is associated with a project board and has status Done.\"]}}, {\"data\": {\"name\": \"data-b68381b9794ee3159bec945f9cb64e5b\"}, \"mark\": {\"type\": \"line\", \"point\": true}, \"encoding\": {\"color\": {\"field\": \"user_login\", \"type\": \"nominal\"}, \"opacity\": {\"condition\": {\"param\": \"param_8\", \"value\": 1}, \"value\": 0.1}, \"tooltip\": [{\"field\": \"user_login\", \"type\": \"nominal\"}, {\"field\": \"closed_by_login\", \"type\": \"quantitative\"}, {\"field\": \"issue_date\", \"timeUnit\": \"yearmonthdatehoursminutes\", \"type\": \"temporal\"}, {\"field\": \"issue_date_type\", \"type\": \"nominal\"}, {\"field\": \"title\", \"type\": \"nominal\"}, {\"field\": \"body\", \"type\": \"quantitative\"}, {\"field\": \"state\", \"type\": \"quantitative\"}, {\"field\": \"assignee\", \"type\": \"quantitative\"}, {\"field\": \"assignees_logins\", \"type\": \"quantitative\"}, {\"field\": \"html_url\", \"type\": \"nominal\"}], \"x\": {\"field\": \"issue_date\", \"type\": \"temporal\"}, \"y\": {\"axis\": {\"labels\": false, \"title\": null}, \"field\": \"title\", \"type\": \"nominal\"}}, \"name\": \"view_8\", \"title\": {\"text\": \"Issue: Semster Project: Timeline - Sophia\", \"subtitle\": [\"Issue is associated with a project board and has status Done.\"]}}, {\"data\": {\"name\": \"data-996945b1520f589d540bd23bb138fdf1\"}, \"mark\": {\"type\": \"line\", \"point\": true}, \"encoding\": {\"color\": {\"field\": \"user_login\", \"type\": \"nominal\"}, \"opacity\": {\"condition\": {\"param\": \"param_9\", \"value\": 1}, \"value\": 0.1}, \"tooltip\": [{\"field\": \"user_login\", \"type\": \"nominal\"}, {\"field\": \"closed_by_login\", \"type\": \"quantitative\"}, {\"field\": \"issue_date\", \"timeUnit\": \"yearmonthdatehoursminutes\", \"type\": \"temporal\"}, {\"field\": \"issue_date_type\", \"type\": \"nominal\"}, {\"field\": \"title\", \"type\": \"nominal\"}, {\"field\": \"body\", \"type\": \"quantitative\"}, {\"field\": \"state\", \"type\": \"quantitative\"}, {\"field\": \"assignee\", \"type\": \"quantitative\"}, {\"field\": \"assignees_logins\", \"type\": \"quantitative\"}, {\"field\": \"html_url\", \"type\": \"nominal\"}], \"x\": {\"field\": \"issue_date\", \"type\": \"temporal\"}, \"y\": {\"axis\": {\"labels\": false, \"title\": null}, \"field\": \"title\", \"type\": \"nominal\"}}, \"name\": \"view_9\", \"title\": {\"text\": \"Issue: Semester Project: Materials - Lucas & Francis\", \"subtitle\": [\"Issue is associated with a project board and has status Done.\"]}}, {\"data\": {\"name\": \"data-3789d8ad700c3f76376b36e4d09911c1\"}, \"mark\": {\"type\": \"line\", \"point\": true}, \"encoding\": {\"color\": {\"field\": \"user_login\", \"type\": \"nominal\"}, \"opacity\": {\"condition\": {\"param\": \"param_10\", \"value\": 1}, \"value\": 0.1}, \"tooltip\": [{\"field\": \"user_login\", \"type\": \"nominal\"}, {\"field\": \"closed_by_login\", \"type\": \"quantitative\"}, {\"field\": \"issue_date\", \"timeUnit\": \"yearmonthdatehoursminutes\", \"type\": \"temporal\"}, {\"field\": \"issue_date_type\", \"type\": \"nominal\"}, {\"field\": \"title\", \"type\": \"nominal\"}, {\"field\": \"body\", \"type\": \"quantitative\"}, {\"field\": \"state\", \"type\": \"quantitative\"}, {\"field\": \"assignee\", \"type\": \"quantitative\"}, {\"field\": \"assignees_logins\", \"type\": \"quantitative\"}, {\"field\": \"html_url\", \"type\": \"nominal\"}], \"x\": {\"field\": \"issue_date\", \"type\": \"temporal\"}, \"y\": {\"axis\": {\"labels\": false, \"title\": null}, \"field\": \"title\", \"type\": \"nominal\"}}, \"name\": \"view_10\", \"title\": {\"text\": \"Issue: [Weekly Report] Project Manager for {9/09/24}\", \"subtitle\": [\"Issue is associated with a project board and has status Done.\"]}}, {\"data\": {\"name\": \"data-b9c3761dfa44e370e24d70e798e2b133\"}, \"mark\": {\"type\": \"line\", \"point\": true}, \"encoding\": {\"color\": {\"field\": \"user_login\", \"type\": \"nominal\"}, \"opacity\": {\"condition\": {\"param\": \"param_11\", \"value\": 1}, \"value\": 0.1}, \"tooltip\": [{\"field\": \"user_login\", \"type\": \"nominal\"}, {\"field\": \"closed_by_login\", \"type\": \"quantitative\"}, {\"field\": \"issue_date\", \"timeUnit\": \"yearmonthdatehoursminutes\", \"type\": \"temporal\"}, {\"field\": \"issue_date_type\", \"type\": \"nominal\"}, {\"field\": \"title\", \"type\": \"nominal\"}, {\"field\": \"body\", \"type\": \"quantitative\"}, {\"field\": \"state\", \"type\": \"quantitative\"}, {\"field\": \"assignee\", \"type\": \"quantitative\"}, {\"field\": \"assignees_logins\", \"type\": \"quantitative\"}, {\"field\": \"html_url\", \"type\": \"nominal\"}], \"x\": {\"field\": \"issue_date\", \"type\": \"temporal\"}, \"y\": {\"axis\": {\"labels\": false, \"title\": null}, \"field\": \"title\", \"type\": \"nominal\"}}, \"name\": \"view_11\", \"title\": {\"text\": \"Issue: [Weekly Report] Project Manager for {Week 09/17}\", \"subtitle\": [\"Issue is associated with a project board and has status Done.\"]}}, {\"data\": {\"name\": \"data-44e8f799175dde19e9d422de1a5fefa3\"}, \"mark\": {\"type\": \"line\", \"point\": true}, \"encoding\": {\"color\": {\"field\": \"user_login\", \"type\": \"nominal\"}, \"opacity\": {\"condition\": {\"param\": \"param_12\", \"value\": 1}, \"value\": 0.1}, \"tooltip\": [{\"field\": \"user_login\", \"type\": \"nominal\"}, {\"field\": \"closed_by_login\", \"type\": \"quantitative\"}, {\"field\": \"issue_date\", \"timeUnit\": \"yearmonthdatehoursminutes\", \"type\": \"temporal\"}, {\"field\": \"issue_date_type\", \"type\": \"nominal\"}, {\"field\": \"title\", \"type\": \"nominal\"}, {\"field\": \"body\", \"type\": \"quantitative\"}, {\"field\": \"state\", \"type\": \"quantitative\"}, {\"field\": \"assignee\", \"type\": \"quantitative\"}, {\"field\": \"assignees_logins\", \"type\": \"quantitative\"}, {\"field\": \"html_url\", \"type\": \"nominal\"}], \"x\": {\"field\": \"issue_date\", \"type\": \"temporal\"}, \"y\": {\"axis\": {\"labels\": false, \"title\": null}, \"field\": \"title\", \"type\": \"nominal\"}}, \"name\": \"view_12\", \"title\": {\"text\": \"Issue: Part 1: Selecting and Accessing Platform Data\", \"subtitle\": [\"Issue is associated with a project board and has status Done.\"]}}, {\"data\": {\"name\": \"data-cea6c8fd8faef72d93b53a45b90a2dd2\"}, \"mark\": {\"type\": \"line\", \"point\": true}, \"encoding\": {\"color\": {\"field\": \"user_login\", \"type\": \"nominal\"}, \"opacity\": {\"condition\": {\"param\": \"param_13\", \"value\": 1}, \"value\": 0.1}, \"tooltip\": [{\"field\": \"user_login\", \"type\": \"nominal\"}, {\"field\": \"closed_by_login\", \"type\": \"quantitative\"}, {\"field\": \"issue_date\", \"timeUnit\": \"yearmonthdatehoursminutes\", \"type\": \"temporal\"}, {\"field\": \"issue_date_type\", \"type\": \"nominal\"}, {\"field\": \"title\", \"type\": \"nominal\"}, {\"field\": \"body\", \"type\": \"quantitative\"}, {\"field\": \"state\", \"type\": \"quantitative\"}, {\"field\": \"assignee\", \"type\": \"quantitative\"}, {\"field\": \"assignees_logins\", \"type\": \"quantitative\"}, {\"field\": \"html_url\", \"type\": \"nominal\"}], \"x\": {\"field\": \"issue_date\", \"type\": \"temporal\"}, \"y\": {\"axis\": {\"labels\": false, \"title\": null}, \"field\": \"title\", \"type\": \"nominal\"}}, \"name\": \"view_13\", \"title\": {\"text\": \"Issue: Part 2:  Creating a Perspectival & Proprietary DatasetPermalink\", \"subtitle\": [\"Issue is associated with a project board and has status Done.\"]}}, {\"data\": {\"name\": \"data-29c2f8042c47169ed441806e026fb57f\"}, \"mark\": {\"type\": \"line\", \"point\": true}, \"encoding\": {\"color\": {\"field\": \"user_login\", \"type\": \"nominal\"}, \"opacity\": {\"condition\": {\"param\": \"param_14\", \"value\": 1}, \"value\": 0.1}, \"tooltip\": [{\"field\": \"user_login\", \"type\": \"nominal\"}, {\"field\": \"closed_by_login\", \"type\": \"quantitative\"}, {\"field\": \"issue_date\", \"timeUnit\": \"yearmonthdatehoursminutes\", \"type\": \"temporal\"}, {\"field\": \"issue_date_type\", \"type\": \"nominal\"}, {\"field\": \"title\", \"type\": \"nominal\"}, {\"field\": \"body\", \"type\": \"quantitative\"}, {\"field\": \"state\", \"type\": \"quantitative\"}, {\"field\": \"assignee\", \"type\": \"quantitative\"}, {\"field\": \"assignees_logins\", \"type\": \"quantitative\"}, {\"field\": \"html_url\", \"type\": \"nominal\"}], \"x\": {\"field\": \"issue_date\", \"type\": \"temporal\"}, \"y\": {\"axis\": {\"labels\": false, \"title\": null}, \"field\": \"title\", \"type\": \"nominal\"}}, \"name\": \"view_14\", \"title\": {\"text\": \"Issue: Part 3: Reflect & Documentation\", \"subtitle\": [\"Issue is associated with a project board and has status Done.\"]}}, {\"data\": {\"name\": \"data-577c54a88113db25b38d99dd73c10bd5\"}, \"mark\": {\"type\": \"line\", \"point\": true}, \"encoding\": {\"color\": {\"field\": \"user_login\", \"type\": \"nominal\"}, \"opacity\": {\"condition\": {\"param\": \"param_15\", \"value\": 1}, \"value\": 0.1}, \"tooltip\": [{\"field\": \"user_login\", \"type\": \"nominal\"}, {\"field\": \"closed_by_login\", \"type\": \"quantitative\"}, {\"field\": \"issue_date\", \"timeUnit\": \"yearmonthdatehoursminutes\", \"type\": \"temporal\"}, {\"field\": \"issue_date_type\", \"type\": \"nominal\"}, {\"field\": \"title\", \"type\": \"nominal\"}, {\"field\": \"body\", \"type\": \"quantitative\"}, {\"field\": \"state\", \"type\": \"quantitative\"}, {\"field\": \"assignee\", \"type\": \"quantitative\"}, {\"field\": \"assignees_logins\", \"type\": \"quantitative\"}, {\"field\": \"html_url\", \"type\": \"nominal\"}], \"x\": {\"field\": \"issue_date\", \"type\": \"temporal\"}, \"y\": {\"axis\": {\"labels\": false, \"title\": null}, \"field\": \"title\", \"type\": \"nominal\"}}, \"name\": \"view_15\", \"title\": {\"text\": \"Issue: [Weekly Report] Project Manager for {10/08/24}\", \"subtitle\": [\"Issue is associated with a project board and has status Done.\"]}}], \"params\": [{\"name\": \"param_4\", \"select\": {\"type\": \"point\", \"fields\": [\"user_login\"]}, \"bind\": \"legend\", \"views\": [\"view_4\"]}, {\"name\": \"param_5\", \"select\": {\"type\": \"point\", \"fields\": [\"user_login\"]}, \"bind\": \"legend\", \"views\": [\"view_5\"]}, {\"name\": \"param_6\", \"select\": {\"type\": \"point\", \"fields\": [\"user_login\"]}, \"bind\": \"legend\", \"views\": [\"view_6\"]}, {\"name\": \"param_7\", \"select\": {\"type\": \"point\", \"fields\": [\"user_login\"]}, \"bind\": \"legend\", \"views\": [\"view_7\"]}, {\"name\": \"param_8\", \"select\": {\"type\": \"point\", \"fields\": [\"user_login\"]}, \"bind\": \"legend\", \"views\": [\"view_8\"]}, {\"name\": \"param_9\", \"select\": {\"type\": \"point\", \"fields\": [\"user_login\"]}, \"bind\": \"legend\", \"views\": [\"view_9\"]}, {\"name\": \"param_10\", \"select\": {\"type\": \"point\", \"fields\": [\"user_login\"]}, \"bind\": \"legend\", \"views\": [\"view_10\"]}, {\"name\": \"param_11\", \"select\": {\"type\": \"point\", \"fields\": [\"user_login\"]}, \"bind\": \"legend\", \"views\": [\"view_11\"]}, {\"name\": \"param_12\", \"select\": {\"type\": \"point\", \"fields\": [\"user_login\"]}, \"bind\": \"legend\", \"views\": [\"view_12\"]}, {\"name\": \"param_13\", \"select\": {\"type\": \"point\", \"fields\": [\"user_login\"]}, \"bind\": \"legend\", \"views\": [\"view_13\"]}, {\"name\": \"param_14\", \"select\": {\"type\": \"point\", \"fields\": [\"user_login\"]}, \"bind\": \"legend\", \"views\": [\"view_14\"]}, {\"name\": \"param_15\", \"select\": {\"type\": \"point\", \"fields\": [\"user_login\"]}, \"bind\": \"legend\", \"views\": [\"view_15\"]}], \"resolve\": {\"scale\": {\"x\": \"shared\"}}, \"$schema\": \"https://vega.github.io/schema/vega-lite/v5.20.1.json\", \"datasets\": {\"data-7dba188bc1c9046a0d50d1ec4cfe48eb\": [{\"user_login\": \"LucasWashor\", \"title\": \"Critical Cultural Data Explorations: AI Analysis (Lucas and Francis)\", \"state\": null, \"body\": null, \"html_url\": \"https://github.com/CultureAsData-UIUC/is310-fall-2024-group-6/issues/5\", \"assignee\": null, \"assignees_logins\": null, \"labels\": null, \"milestone\": null, \"draft\": null, \"comments\": null, \"state_reason\": null, \"closed_by_login\": null, \"reactions.total_count\": null, \"issue_duration\": null, \"issue_associated_with_pull_request\": false, \"pull_request.url\": null, \"issue_status_on_project_board\": \"Done\", \"issue_date_type\": \"created_at\", \"issue_date\": \"2024-09-23 18:33:11+00:00\"}, {\"user_login\": \"LucasWashor\", \"title\": \"Critical Cultural Data Explorations: AI Analysis (Lucas and Francis)\", \"state\": null, \"body\": null, \"html_url\": \"https://github.com/CultureAsData-UIUC/is310-fall-2024-group-6/issues/5\", \"assignee\": null, \"assignees_logins\": null, \"labels\": null, \"milestone\": null, \"draft\": null, \"comments\": null, \"state_reason\": null, \"closed_by_login\": null, \"reactions.total_count\": null, \"issue_duration\": null, \"issue_associated_with_pull_request\": false, \"pull_request.url\": null, \"issue_status_on_project_board\": \"Done\", \"issue_date_type\": \"updated_at\", \"issue_date\": null}, {\"user_login\": \"LucasWashor\", \"title\": \"Critical Cultural Data Explorations: AI Analysis (Lucas and Francis)\", \"state\": null, \"body\": null, \"html_url\": \"https://github.com/CultureAsData-UIUC/is310-fall-2024-group-6/issues/5\", \"assignee\": null, \"assignees_logins\": null, \"labels\": null, \"milestone\": null, \"draft\": null, \"comments\": null, \"state_reason\": null, \"closed_by_login\": null, \"reactions.total_count\": null, \"issue_duration\": null, \"issue_associated_with_pull_request\": false, \"pull_request.url\": null, \"issue_status_on_project_board\": \"Done\", \"issue_date_type\": \"closed_at\", \"issue_date\": null}], \"data-0997de4b058a821ba6bb2dba8865fced\": [{\"user_login\": \"LucasWashor\", \"title\": \"Critical Cultural Data Explorations: GitHub Documentation (Sophia)\", \"state\": null, \"body\": null, \"html_url\": \"https://github.com/CultureAsData-UIUC/is310-fall-2024-group-6/issues/6\", \"assignee\": null, \"assignees_logins\": null, \"labels\": null, \"milestone\": null, \"draft\": null, \"comments\": null, \"state_reason\": null, \"closed_by_login\": null, \"reactions.total_count\": null, \"issue_duration\": null, \"issue_associated_with_pull_request\": false, \"pull_request.url\": null, \"issue_status_on_project_board\": \"Done\", \"issue_date_type\": \"created_at\", \"issue_date\": \"2024-09-23 18:33:20+00:00\"}, {\"user_login\": \"LucasWashor\", \"title\": \"Critical Cultural Data Explorations: GitHub Documentation (Sophia)\", \"state\": null, \"body\": null, \"html_url\": \"https://github.com/CultureAsData-UIUC/is310-fall-2024-group-6/issues/6\", \"assignee\": null, \"assignees_logins\": null, \"labels\": null, \"milestone\": null, \"draft\": null, \"comments\": null, \"state_reason\": null, \"closed_by_login\": null, \"reactions.total_count\": null, \"issue_duration\": null, \"issue_associated_with_pull_request\": false, \"pull_request.url\": null, \"issue_status_on_project_board\": \"Done\", \"issue_date_type\": \"updated_at\", \"issue_date\": null}, {\"user_login\": \"LucasWashor\", \"title\": \"Critical Cultural Data Explorations: GitHub Documentation (Sophia)\", \"state\": null, \"body\": null, \"html_url\": \"https://github.com/CultureAsData-UIUC/is310-fall-2024-group-6/issues/6\", \"assignee\": null, \"assignees_logins\": null, \"labels\": null, \"milestone\": null, \"draft\": null, \"comments\": null, \"state_reason\": null, \"closed_by_login\": null, \"reactions.total_count\": null, \"issue_duration\": null, \"issue_associated_with_pull_request\": false, \"pull_request.url\": null, \"issue_status_on_project_board\": \"Done\", \"issue_date_type\": \"closed_at\", \"issue_date\": null}], \"data-1ee634a2a20c39dc3610113902714b0c\": [{\"user_login\": \"Cindy1226\", \"title\": \"Semester Project: Division of Labor - Cindy\", \"state\": null, \"body\": null, \"html_url\": \"https://github.com/CultureAsData-UIUC/is310-fall-2024-group-6/issues/9\", \"assignee\": null, \"assignees_logins\": null, \"labels\": null, \"milestone\": null, \"draft\": null, \"comments\": null, \"state_reason\": null, \"closed_by_login\": null, \"reactions.total_count\": null, \"issue_duration\": null, \"issue_associated_with_pull_request\": false, \"pull_request.url\": null, \"issue_status_on_project_board\": \"Done\", \"issue_date_type\": \"created_at\", \"issue_date\": \"2024-09-24 00:42:04+00:00\"}, {\"user_login\": \"Cindy1226\", \"title\": \"Semester Project: Division of Labor - Cindy\", \"state\": null, \"body\": null, \"html_url\": \"https://github.com/CultureAsData-UIUC/is310-fall-2024-group-6/issues/9\", \"assignee\": null, \"assignees_logins\": null, \"labels\": null, \"milestone\": null, \"draft\": null, \"comments\": null, \"state_reason\": null, \"closed_by_login\": null, \"reactions.total_count\": null, \"issue_duration\": null, \"issue_associated_with_pull_request\": false, \"pull_request.url\": null, \"issue_status_on_project_board\": \"Done\", \"issue_date_type\": \"updated_at\", \"issue_date\": null}, {\"user_login\": \"Cindy1226\", \"title\": \"Semester Project: Division of Labor - Cindy\", \"state\": null, \"body\": null, \"html_url\": \"https://github.com/CultureAsData-UIUC/is310-fall-2024-group-6/issues/9\", \"assignee\": null, \"assignees_logins\": null, \"labels\": null, \"milestone\": null, \"draft\": null, \"comments\": null, \"state_reason\": null, \"closed_by_login\": null, \"reactions.total_count\": null, \"issue_duration\": null, \"issue_associated_with_pull_request\": false, \"pull_request.url\": null, \"issue_status_on_project_board\": \"Done\", \"issue_date_type\": \"closed_at\", \"issue_date\": null}], \"data-9bc1588c4f000701f48b48f96269ef38\": [{\"user_login\": \"GloriaLiu930\", \"title\": \"Semester Project: Topics - Gloria\", \"state\": null, \"body\": null, \"html_url\": \"https://github.com/CultureAsData-UIUC/is310-fall-2024-group-6/issues/7\", \"assignee\": null, \"assignees_logins\": null, \"labels\": null, \"milestone\": null, \"draft\": null, \"comments\": null, \"state_reason\": null, \"closed_by_login\": null, \"reactions.total_count\": null, \"issue_duration\": null, \"issue_associated_with_pull_request\": false, \"pull_request.url\": null, \"issue_status_on_project_board\": \"Done\", \"issue_date_type\": \"created_at\", \"issue_date\": \"2024-09-24 02:14:53+00:00\"}, {\"user_login\": \"GloriaLiu930\", \"title\": \"Semester Project: Topics - Gloria\", \"state\": null, \"body\": null, \"html_url\": \"https://github.com/CultureAsData-UIUC/is310-fall-2024-group-6/issues/7\", \"assignee\": null, \"assignees_logins\": null, \"labels\": null, \"milestone\": null, \"draft\": null, \"comments\": null, \"state_reason\": null, \"closed_by_login\": null, \"reactions.total_count\": null, \"issue_duration\": null, \"issue_associated_with_pull_request\": false, \"pull_request.url\": null, \"issue_status_on_project_board\": \"Done\", \"issue_date_type\": \"updated_at\", \"issue_date\": null}, {\"user_login\": \"GloriaLiu930\", \"title\": \"Semester Project: Topics - Gloria\", \"state\": null, \"body\": null, \"html_url\": \"https://github.com/CultureAsData-UIUC/is310-fall-2024-group-6/issues/7\", \"assignee\": null, \"assignees_logins\": null, \"labels\": null, \"milestone\": null, \"draft\": null, \"comments\": null, \"state_reason\": null, \"closed_by_login\": null, \"reactions.total_count\": null, \"issue_duration\": null, \"issue_associated_with_pull_request\": false, \"pull_request.url\": null, \"issue_status_on_project_board\": \"Done\", \"issue_date_type\": \"closed_at\", \"issue_date\": null}], \"data-b68381b9794ee3159bec945f9cb64e5b\": [{\"user_login\": \"GloriaLiu930\", \"title\": \"Semster Project: Timeline - Sophia\", \"state\": null, \"body\": null, \"html_url\": \"https://github.com/CultureAsData-UIUC/is310-fall-2024-group-6/issues/10\", \"assignee\": null, \"assignees_logins\": null, \"labels\": null, \"milestone\": null, \"draft\": null, \"comments\": null, \"state_reason\": null, \"closed_by_login\": null, \"reactions.total_count\": null, \"issue_duration\": null, \"issue_associated_with_pull_request\": false, \"pull_request.url\": null, \"issue_status_on_project_board\": \"Done\", \"issue_date_type\": \"created_at\", \"issue_date\": \"2024-09-24 02:15:21+00:00\"}, {\"user_login\": \"GloriaLiu930\", \"title\": \"Semster Project: Timeline - Sophia\", \"state\": null, \"body\": null, \"html_url\": \"https://github.com/CultureAsData-UIUC/is310-fall-2024-group-6/issues/10\", \"assignee\": null, \"assignees_logins\": null, \"labels\": null, \"milestone\": null, \"draft\": null, \"comments\": null, \"state_reason\": null, \"closed_by_login\": null, \"reactions.total_count\": null, \"issue_duration\": null, \"issue_associated_with_pull_request\": false, \"pull_request.url\": null, \"issue_status_on_project_board\": \"Done\", \"issue_date_type\": \"updated_at\", \"issue_date\": null}, {\"user_login\": \"GloriaLiu930\", \"title\": \"Semster Project: Timeline - Sophia\", \"state\": null, \"body\": null, \"html_url\": \"https://github.com/CultureAsData-UIUC/is310-fall-2024-group-6/issues/10\", \"assignee\": null, \"assignees_logins\": null, \"labels\": null, \"milestone\": null, \"draft\": null, \"comments\": null, \"state_reason\": null, \"closed_by_login\": null, \"reactions.total_count\": null, \"issue_duration\": null, \"issue_associated_with_pull_request\": false, \"pull_request.url\": null, \"issue_status_on_project_board\": \"Done\", \"issue_date_type\": \"closed_at\", \"issue_date\": null}], \"data-996945b1520f589d540bd23bb138fdf1\": [{\"user_login\": \"GloriaLiu930\", \"title\": \"Semester Project: Materials - Lucas & Francis\", \"state\": null, \"body\": null, \"html_url\": \"https://github.com/CultureAsData-UIUC/is310-fall-2024-group-6/issues/8\", \"assignee\": null, \"assignees_logins\": null, \"labels\": null, \"milestone\": null, \"draft\": null, \"comments\": null, \"state_reason\": null, \"closed_by_login\": null, \"reactions.total_count\": null, \"issue_duration\": null, \"issue_associated_with_pull_request\": false, \"pull_request.url\": null, \"issue_status_on_project_board\": \"Done\", \"issue_date_type\": \"created_at\", \"issue_date\": \"2024-09-24 02:15:25+00:00\"}, {\"user_login\": \"GloriaLiu930\", \"title\": \"Semester Project: Materials - Lucas & Francis\", \"state\": null, \"body\": null, \"html_url\": \"https://github.com/CultureAsData-UIUC/is310-fall-2024-group-6/issues/8\", \"assignee\": null, \"assignees_logins\": null, \"labels\": null, \"milestone\": null, \"draft\": null, \"comments\": null, \"state_reason\": null, \"closed_by_login\": null, \"reactions.total_count\": null, \"issue_duration\": null, \"issue_associated_with_pull_request\": false, \"pull_request.url\": null, \"issue_status_on_project_board\": \"Done\", \"issue_date_type\": \"updated_at\", \"issue_date\": null}, {\"user_login\": \"GloriaLiu930\", \"title\": \"Semester Project: Materials - Lucas & Francis\", \"state\": null, \"body\": null, \"html_url\": \"https://github.com/CultureAsData-UIUC/is310-fall-2024-group-6/issues/8\", \"assignee\": null, \"assignees_logins\": null, \"labels\": null, \"milestone\": null, \"draft\": null, \"comments\": null, \"state_reason\": null, \"closed_by_login\": null, \"reactions.total_count\": null, \"issue_duration\": null, \"issue_associated_with_pull_request\": false, \"pull_request.url\": null, \"issue_status_on_project_board\": \"Done\", \"issue_date_type\": \"closed_at\", \"issue_date\": null}], \"data-3789d8ad700c3f76376b36e4d09911c1\": [{\"user_login\": \"GloriaLiu930\", \"title\": \"[Weekly Report] Project Manager for {9/09/24}\", \"state\": null, \"body\": null, \"html_url\": \"https://github.com/CultureAsData-UIUC/is310-fall-2024-group-6/issues/2\", \"assignee\": null, \"assignees_logins\": null, \"labels\": null, \"milestone\": null, \"draft\": null, \"comments\": null, \"state_reason\": null, \"closed_by_login\": null, \"reactions.total_count\": null, \"issue_duration\": null, \"issue_associated_with_pull_request\": false, \"pull_request.url\": null, \"issue_status_on_project_board\": \"Done\", \"issue_date_type\": \"created_at\", \"issue_date\": \"2024-09-24 02:15:32+00:00\"}, {\"user_login\": \"GloriaLiu930\", \"title\": \"[Weekly Report] Project Manager for {9/09/24}\", \"state\": null, \"body\": null, \"html_url\": \"https://github.com/CultureAsData-UIUC/is310-fall-2024-group-6/issues/2\", \"assignee\": null, \"assignees_logins\": null, \"labels\": null, \"milestone\": null, \"draft\": null, \"comments\": null, \"state_reason\": null, \"closed_by_login\": null, \"reactions.total_count\": null, \"issue_duration\": null, \"issue_associated_with_pull_request\": false, \"pull_request.url\": null, \"issue_status_on_project_board\": \"Done\", \"issue_date_type\": \"updated_at\", \"issue_date\": null}, {\"user_login\": \"GloriaLiu930\", \"title\": \"[Weekly Report] Project Manager for {9/09/24}\", \"state\": null, \"body\": null, \"html_url\": \"https://github.com/CultureAsData-UIUC/is310-fall-2024-group-6/issues/2\", \"assignee\": null, \"assignees_logins\": null, \"labels\": null, \"milestone\": null, \"draft\": null, \"comments\": null, \"state_reason\": null, \"closed_by_login\": null, \"reactions.total_count\": null, \"issue_duration\": null, \"issue_associated_with_pull_request\": false, \"pull_request.url\": null, \"issue_status_on_project_board\": \"Done\", \"issue_date_type\": \"closed_at\", \"issue_date\": null}], \"data-b9c3761dfa44e370e24d70e798e2b133\": [{\"user_login\": \"GloriaLiu930\", \"title\": \"[Weekly Report] Project Manager for {Week 09/17}\", \"state\": null, \"body\": null, \"html_url\": \"https://github.com/CultureAsData-UIUC/is310-fall-2024-group-6/issues/3\", \"assignee\": null, \"assignees_logins\": null, \"labels\": null, \"milestone\": null, \"draft\": null, \"comments\": null, \"state_reason\": null, \"closed_by_login\": null, \"reactions.total_count\": null, \"issue_duration\": null, \"issue_associated_with_pull_request\": false, \"pull_request.url\": null, \"issue_status_on_project_board\": \"Done\", \"issue_date_type\": \"created_at\", \"issue_date\": \"2024-09-24 02:15:33+00:00\"}, {\"user_login\": \"GloriaLiu930\", \"title\": \"[Weekly Report] Project Manager for {Week 09/17}\", \"state\": null, \"body\": null, \"html_url\": \"https://github.com/CultureAsData-UIUC/is310-fall-2024-group-6/issues/3\", \"assignee\": null, \"assignees_logins\": null, \"labels\": null, \"milestone\": null, \"draft\": null, \"comments\": null, \"state_reason\": null, \"closed_by_login\": null, \"reactions.total_count\": null, \"issue_duration\": null, \"issue_associated_with_pull_request\": false, \"pull_request.url\": null, \"issue_status_on_project_board\": \"Done\", \"issue_date_type\": \"updated_at\", \"issue_date\": null}, {\"user_login\": \"GloriaLiu930\", \"title\": \"[Weekly Report] Project Manager for {Week 09/17}\", \"state\": null, \"body\": null, \"html_url\": \"https://github.com/CultureAsData-UIUC/is310-fall-2024-group-6/issues/3\", \"assignee\": null, \"assignees_logins\": null, \"labels\": null, \"milestone\": null, \"draft\": null, \"comments\": null, \"state_reason\": null, \"closed_by_login\": null, \"reactions.total_count\": null, \"issue_duration\": null, \"issue_associated_with_pull_request\": false, \"pull_request.url\": null, \"issue_status_on_project_board\": \"Done\", \"issue_date_type\": \"closed_at\", \"issue_date\": null}], \"data-44e8f799175dde19e9d422de1a5fefa3\": [{\"user_login\": \"GloriaLiu930\", \"title\": \"Part 1: Selecting and Accessing Platform Data\", \"state\": null, \"body\": null, \"html_url\": \"https://github.com/CultureAsData-UIUC/is310-fall-2024-group-6/issues/12\", \"assignee\": null, \"assignees_logins\": null, \"labels\": null, \"milestone\": null, \"draft\": null, \"comments\": null, \"state_reason\": null, \"closed_by_login\": null, \"reactions.total_count\": null, \"issue_duration\": null, \"issue_associated_with_pull_request\": false, \"pull_request.url\": null, \"issue_status_on_project_board\": \"Done\", \"issue_date_type\": \"created_at\", \"issue_date\": \"2024-10-13 04:07:33+00:00\"}, {\"user_login\": \"GloriaLiu930\", \"title\": \"Part 1: Selecting and Accessing Platform Data\", \"state\": null, \"body\": null, \"html_url\": \"https://github.com/CultureAsData-UIUC/is310-fall-2024-group-6/issues/12\", \"assignee\": null, \"assignees_logins\": null, \"labels\": null, \"milestone\": null, \"draft\": null, \"comments\": null, \"state_reason\": null, \"closed_by_login\": null, \"reactions.total_count\": null, \"issue_duration\": null, \"issue_associated_with_pull_request\": false, \"pull_request.url\": null, \"issue_status_on_project_board\": \"Done\", \"issue_date_type\": \"updated_at\", \"issue_date\": null}, {\"user_login\": \"GloriaLiu930\", \"title\": \"Part 1: Selecting and Accessing Platform Data\", \"state\": null, \"body\": null, \"html_url\": \"https://github.com/CultureAsData-UIUC/is310-fall-2024-group-6/issues/12\", \"assignee\": null, \"assignees_logins\": null, \"labels\": null, \"milestone\": null, \"draft\": null, \"comments\": null, \"state_reason\": null, \"closed_by_login\": null, \"reactions.total_count\": null, \"issue_duration\": null, \"issue_associated_with_pull_request\": false, \"pull_request.url\": null, \"issue_status_on_project_board\": \"Done\", \"issue_date_type\": \"closed_at\", \"issue_date\": null}], \"data-cea6c8fd8faef72d93b53a45b90a2dd2\": [{\"user_login\": \"GloriaLiu930\", \"title\": \"Part 2:  Creating a Perspectival & Proprietary DatasetPermalink\", \"state\": null, \"body\": null, \"html_url\": \"https://github.com/CultureAsData-UIUC/is310-fall-2024-group-6/issues/13\", \"assignee\": null, \"assignees_logins\": null, \"labels\": null, \"milestone\": null, \"draft\": null, \"comments\": null, \"state_reason\": null, \"closed_by_login\": null, \"reactions.total_count\": null, \"issue_duration\": null, \"issue_associated_with_pull_request\": false, \"pull_request.url\": null, \"issue_status_on_project_board\": \"Done\", \"issue_date_type\": \"created_at\", \"issue_date\": \"2024-10-13 04:07:35+00:00\"}, {\"user_login\": \"GloriaLiu930\", \"title\": \"Part 2:  Creating a Perspectival & Proprietary DatasetPermalink\", \"state\": null, \"body\": null, \"html_url\": \"https://github.com/CultureAsData-UIUC/is310-fall-2024-group-6/issues/13\", \"assignee\": null, \"assignees_logins\": null, \"labels\": null, \"milestone\": null, \"draft\": null, \"comments\": null, \"state_reason\": null, \"closed_by_login\": null, \"reactions.total_count\": null, \"issue_duration\": null, \"issue_associated_with_pull_request\": false, \"pull_request.url\": null, \"issue_status_on_project_board\": \"Done\", \"issue_date_type\": \"updated_at\", \"issue_date\": null}, {\"user_login\": \"GloriaLiu930\", \"title\": \"Part 2:  Creating a Perspectival & Proprietary DatasetPermalink\", \"state\": null, \"body\": null, \"html_url\": \"https://github.com/CultureAsData-UIUC/is310-fall-2024-group-6/issues/13\", \"assignee\": null, \"assignees_logins\": null, \"labels\": null, \"milestone\": null, \"draft\": null, \"comments\": null, \"state_reason\": null, \"closed_by_login\": null, \"reactions.total_count\": null, \"issue_duration\": null, \"issue_associated_with_pull_request\": false, \"pull_request.url\": null, \"issue_status_on_project_board\": \"Done\", \"issue_date_type\": \"closed_at\", \"issue_date\": null}], \"data-29c2f8042c47169ed441806e026fb57f\": [{\"user_login\": \"GloriaLiu930\", \"title\": \"Part 3: Reflect & Documentation\", \"state\": null, \"body\": null, \"html_url\": \"https://github.com/CultureAsData-UIUC/is310-fall-2024-group-6/issues/14\", \"assignee\": null, \"assignees_logins\": null, \"labels\": null, \"milestone\": null, \"draft\": null, \"comments\": null, \"state_reason\": null, \"closed_by_login\": null, \"reactions.total_count\": null, \"issue_duration\": null, \"issue_associated_with_pull_request\": false, \"pull_request.url\": null, \"issue_status_on_project_board\": \"Done\", \"issue_date_type\": \"created_at\", \"issue_date\": \"2024-10-13 04:07:37+00:00\"}, {\"user_login\": \"GloriaLiu930\", \"title\": \"Part 3: Reflect & Documentation\", \"state\": null, \"body\": null, \"html_url\": \"https://github.com/CultureAsData-UIUC/is310-fall-2024-group-6/issues/14\", \"assignee\": null, \"assignees_logins\": null, \"labels\": null, \"milestone\": null, \"draft\": null, \"comments\": null, \"state_reason\": null, \"closed_by_login\": null, \"reactions.total_count\": null, \"issue_duration\": null, \"issue_associated_with_pull_request\": false, \"pull_request.url\": null, \"issue_status_on_project_board\": \"Done\", \"issue_date_type\": \"updated_at\", \"issue_date\": null}, {\"user_login\": \"GloriaLiu930\", \"title\": \"Part 3: Reflect & Documentation\", \"state\": null, \"body\": null, \"html_url\": \"https://github.com/CultureAsData-UIUC/is310-fall-2024-group-6/issues/14\", \"assignee\": null, \"assignees_logins\": null, \"labels\": null, \"milestone\": null, \"draft\": null, \"comments\": null, \"state_reason\": null, \"closed_by_login\": null, \"reactions.total_count\": null, \"issue_duration\": null, \"issue_associated_with_pull_request\": false, \"pull_request.url\": null, \"issue_status_on_project_board\": \"Done\", \"issue_date_type\": \"closed_at\", \"issue_date\": null}], \"data-577c54a88113db25b38d99dd73c10bd5\": [{\"user_login\": \"Cindy1226\", \"title\": \"[Weekly Report] Project Manager for {10/08/24}\", \"state\": null, \"body\": null, \"html_url\": \"https://github.com/CultureAsData-UIUC/is310-fall-2024-group-6/issues/15\", \"assignee\": null, \"assignees_logins\": null, \"labels\": null, \"milestone\": null, \"draft\": null, \"comments\": null, \"state_reason\": null, \"closed_by_login\": null, \"reactions.total_count\": null, \"issue_duration\": null, \"issue_associated_with_pull_request\": false, \"pull_request.url\": null, \"issue_status_on_project_board\": \"Done\", \"issue_date_type\": \"created_at\", \"issue_date\": \"2024-10-15 16:32:30+00:00\"}, {\"user_login\": \"Cindy1226\", \"title\": \"[Weekly Report] Project Manager for {10/08/24}\", \"state\": null, \"body\": null, \"html_url\": \"https://github.com/CultureAsData-UIUC/is310-fall-2024-group-6/issues/15\", \"assignee\": null, \"assignees_logins\": null, \"labels\": null, \"milestone\": null, \"draft\": null, \"comments\": null, \"state_reason\": null, \"closed_by_login\": null, \"reactions.total_count\": null, \"issue_duration\": null, \"issue_associated_with_pull_request\": false, \"pull_request.url\": null, \"issue_status_on_project_board\": \"Done\", \"issue_date_type\": \"updated_at\", \"issue_date\": null}, {\"user_login\": \"Cindy1226\", \"title\": \"[Weekly Report] Project Manager for {10/08/24}\", \"state\": null, \"body\": null, \"html_url\": \"https://github.com/CultureAsData-UIUC/is310-fall-2024-group-6/issues/15\", \"assignee\": null, \"assignees_logins\": null, \"labels\": null, \"milestone\": null, \"draft\": null, \"comments\": null, \"state_reason\": null, \"closed_by_login\": null, \"reactions.total_count\": null, \"issue_duration\": null, \"issue_associated_with_pull_request\": false, \"pull_request.url\": null, \"issue_status_on_project_board\": \"Done\", \"issue_date_type\": \"closed_at\", \"issue_date\": null}]}}, {\"mode\": \"vega-lite\"});\n",
       "</script>"
      ],
      "text/plain": [
       "alt.VConcatChart(...)"
      ]
     },
     "execution_count": 5,
     "metadata": {},
     "output_type": "execute_result"
    }
   ],
   "source": [
    "# Once again melt the issues dataframe from wide to long format so that we can have all the issue dates in one column called issue_date\n",
    "melted_issues_df = issues_df.melt(id_vars=['user.login', 'title', 'state', 'body', 'html_url', 'assignee', 'assignees_logins', 'labels', 'milestone', 'draft', 'comments', 'state_reason', 'closed_by.login', 'reactions.total_count', 'issue_duration', 'issue_associated_with_pull_request', 'pull_request.url', 'issue_status_on_project_board'], value_vars=['created_at', 'updated_at', 'closed_at'], var_name='issue_date_type', value_name='issue_date')\n",
    "\n",
    "# Rename columns for because Altair does not let us use '.' in the column names\n",
    "melted_issues_df = melted_issues_df.rename(columns={\n",
    "    'user.login': 'user_login', \n",
    "    'closed_by.login': 'closed_by_login'\n",
    "})\n",
    "\n",
    "# Sort the DataFrame by issue_date\n",
    "melted_issues_df = melted_issues_df.sort_values(by='issue_date')\n",
    "\n",
    "# Get the unique issue titles\n",
    "issue_titles = melted_issues_df['title'].unique().tolist()\n",
    "\n",
    "# Initialize an empty list to store the charts\n",
    "charts = []\n",
    "# Loop through each issue title to create a chart for the issue\n",
    "for title in issue_titles:\n",
    "    # Create a selection so that we can highlight the contributions of each group member\n",
    "    selection = alt.selection_point(fields=['user_login'], bind='legend')\n",
    "    \n",
    "    # Filter the DataFrame for the current issue title\n",
    "    subset_data = melted_issues_df[melted_issues_df['title'] == title]\n",
    "    \n",
    "    # Initialize a list to store subtitles for the chart\n",
    "    subtitle = []\n",
    "    \n",
    "    # Check if the issue is associated with a pull request\n",
    "    has_pr = subset_data[subset_data['issue_associated_with_pull_request'] == True]\n",
    "    if not has_pr.empty:\n",
    "        # If the issue is associated with a pull request, get the URL of the pull request and add it to the subtitle\n",
    "        pr_url = subset_data['pull_request.url'].unique()[0]\n",
    "        subtitle.append(f\"Issue associated with a pull request ({pr_url}).\")\n",
    "    \n",
    "    # Check if the issue is associated with a project board\n",
    "    has_project_board = subset_data[subset_data['issue_status_on_project_board'].notna()]\n",
    "    if not has_project_board.empty:\n",
    "        # If the issue is associated with a project board, get the status of the issue on the project board and add it to the subtitle\n",
    "        board_status = subset_data['issue_status_on_project_board'].unique()[0]\n",
    "        subtitle.append(f\"Issue is associated with a project board and has status {board_status}.\")\n",
    "    \n",
    "    # If no subtitles were added, add a default message\n",
    "    if not subtitle:\n",
    "        subtitle = \"Issue is not associated with a pull request or a project board.\"\n",
    "    \n",
    "    # Create a line chart for the current issue title\n",
    "    chart = alt.Chart(subset_data).mark_line(point=True).encode(\n",
    "        x='issue_date:T', # Use the issue date as the x-axis\n",
    "        y=alt.Y('title', axis=alt.Axis(title=None, labels=False)), # Use the title as the y-axis and don't show the axis labels or title since we have the title in the chart title\n",
    "        color='user_login:N', # Color the lines by the user login\n",
    "        tooltip=[\n",
    "            'user_login', 'closed_by_login', 'yearmonthdatehoursminutes(issue_date)', 'issue_date_type', \n",
    "            'title', 'body', 'state', 'assignee', 'assignees_logins', 'html_url'\n",
    "        ], # Show the user login, closed by login, issue date, issue date type, title, body, state, assignee, assignees logins, and HTML URL in the tooltip\n",
    "        opacity=alt.condition(selection, alt.value(1), alt.value(0.1)) # Set the opacity to 1 if the user login is selected and 0.1 if not\n",
    "    ).add_params(selection).properties(\n",
    "        # Set the title of the chart to be the issue title and the subtitle to be the subtitles we created\n",
    "        title=alt.Title(f\"Issue: {title}\", subtitle=subtitle)\n",
    "    )\n",
    "    \n",
    "    # Append the chart to the list of charts\n",
    "    charts.append(chart)\n",
    "\n",
    "# Concatenate all the charts vertically and resolve the x-scale to be shared\n",
    "alt.vconcat(*charts).resolve_scale(x='shared')"
   ]
  },
  {
   "cell_type": "markdown",
   "metadata": {},
   "source": [
    "Looking at your issues and project board, it looks like you initially used issues for project management, but then stopped for some reason? I also noticed that many of the issues are being closed immediately after being opened so there might be room to leverage issues more as you complete the project. I also notice that Gloria is doing the lion's share of the issue management, which is impressive, but I would encourage you to think about how you can balance this workload more effectively.\n",
    "\n",
    "I realize using a new platform and interface for project management can be difficult, but I would encourage you to think about how you can use these tools to not only help you manage your project and communicate with each other, but also document your work for the final project."
   ]
  },
  {
   "cell_type": "markdown",
   "metadata": {},
   "source": [
    "## Group Assignments to Date Feedback\n",
    "\n",
    "The following feedback is for the three group assignments you have completed so far. Since there isn't clear documentation on who completed what activity, I am currently using the git history to assess contributions, but I am happy to adjust this assessment if you provide me with more information."
   ]
  },
  {
   "cell_type": "markdown",
   "metadata": {},
   "source": [
    "### Mass Digitization & Digital Libraries Assignment\n",
    "\n",
    "- It seems like the `READ.md` in your `mid-semester-dataset-&-documentation` folder is the correct file for this assignment, but please correct me if I am wrong.\n",
    "- Overall, I think you did a great job on this assignment! Your detailed exploration of digital objects in children’s literature, including e-books, audiobooks, and interactive apps, was comprehensive and well thought out.\n",
    "- I especially liked the comparison between older archives like Project Gutenberg and newer resources such as the International Children’s Digital Library was effective, highlighting the evolution in accessibility and user engagement.\n",
    "- I also thought your example of “Charlie and the Chocolate Factory” as a viral digital object was a strong, showing how multimedia can enhance a literary work’s reach.\n",
    "- I appreciate that you included clear attribution of contributions for each section and would just recommend formatting links properly for Markdown in future submissions would improve readability.\n",
    "- Given the git history and listed contributors, I am giving full marks to everyone for this assignment.\n",
    "\n",
    "Status: Complete & Full Marks for Everyone"
   ]
  },
  {
   "cell_type": "markdown",
   "metadata": {},
   "source": [
    "### Critical Cultural Data Explorations Assignment\n",
    "\n",
    "- I believe that this assignment is the files in the `critical-cultural-data-explorations` folder, but again please correct me if I am wrong or missing something.\n",
    "- Overall, I thought you did fantastic job on this assignment and really appreciated that you once again not only detailed who worked on which sections, but also included some of your GitHub project management in the assignment. I also appreciated that you included relevant images, some sample data, as well as your notes for the presentation––truly impressive!\n",
    "- You did a great job comparing the Historical Children’s Literature Collection and the Children Stories Text Corpus from Kaggle. Your analysis of how the historical dataset maintained rich cultural elements like illustrations and detailed metadata versus the contemporary dataset focusing solely on text, thus losing visual and contextual depth, was very compelling. I also thought you did a really good job giving an overview of what each dataset contain and considering the power dynamics and potential biases in the datasets.\n",
    "- I found your AI summaries and reflections very interesting as well! I thought you were very thorough in your assessment, and I thought your point about AI provided more detailed and culturally sensitive descriptions for physical books while taking a more mechanical, structural approach for datasets was spot on!\n",
    "- Since both the git history and the listed contributors show that everyone contributed to this assignment, I am giving full marks to everyone for this assignment.\n",
    "\n",
    "Status: Complete & Full Marks for Everyone (Though happy to update this if you can share more details about how you worked together on this assignment)"
   ]
  },
  {
   "cell_type": "markdown",
   "metadata": {},
   "source": [
    "### Proprietary & Perspectival Dataset Creation Assignment\n",
    "\n",
    "- It seems like the assignment is in your `proprietary-perspectival-dataset-creation` folder, but please correct me if I am wrong.\n",
    "- Overall, again truly excellent work! You did a great job delving into Spotify as a platform and outlining the process of data collection, the limitations of data access, and how the platform’s terms have evolved over time. Your descriptions of the available tools and methods for collecting data, such as the Spotify API, effectively highlighted both the benefits and restrictions associated with using this platform for research purposes. I thought your point about how there is more transparency now even if there are more restrictions was great. I also appreciated that you considered Spotify Wrapped as an example of how users can get a sense of their data in the aggregate.\n",
    "- I also thought you did a great job both creating and documenting your perspectival dataset! I thought the choice of `Mood While Listening`, `Personal Connection`, and `Subjective Choice` as your subjective categories were very thoughtful and well documented. I do think it would have been helpful to have which member entered which data, but it even without that additional data this is impressive. I also thought your data collection process was also well documented and you made some excellent points about having to balance legal and ethical considerations when using Spotify's data. In particular, I thought your inclusion of copyright issues and protecting users was really great. The only additional suggestion would be having this data in a `csv` file rather than a Markdown table, but given the small size of the dataset, this is a minor issue.\n",
    "- In this assignment, I am not seeing listed contributors, so going off the git history it looks like Lucas, Gloria, and Francis all contributed. But please correct me if I am wrong.\n",
    "\n",
    "Status: Complete & Full Marks for Lucas, Gloria, and Francis (Though happy to update this if you can share more details about how you worked together on this assignment)"
   ]
  },
  {
   "cell_type": "markdown",
   "metadata": {},
   "source": [
    "## Mid-Semester Dataset Update Feedback"
   ]
  },
  {
   "cell_type": "markdown",
   "metadata": {},
   "source": [
    "### Dataset Feedback\n",
    "\n",
    "Overall, your current dataset looks promising, however, there's some immediate issues you should address. First, having the dataset in a Markdown table is not helpful for analysis or visualization. I would recommend you convert this to a `csv` file and then load it into a DataFrame for analysis. As part of this process, I would recommend changing the column titles to be lowercased and underscored for ease of use. I would also recommend that you make sure that you strip some of the spaces from the Markdown values so that you don't end up with issues because your `Language` column has `English` and ` English` as two separate values. I also would recommend that you add in a link to the book in the actual dataset, rather than just in the documentation.\n",
    "\n",
    "I thought you did a good job explaining the data origins from your two archives, and how these archives sometimes had uneven metadata. I also thought your `Content Description` section did a good job of summarizing the data, though I would recommend you somewhat ironically turn that summary into a Markdown table for readability.\n",
    "\n",
    "I appreciated that you decided to collect this data manually and think that was a great initial choice but would **strongly recommend** you consider programmatically collecting this data moving forward. For example, you could web scrape the International Children's Digital Library relatively easily and then use the Internet Archive's python library available here [https://archive.org/developers/internetarchive/](https://archive.org/developers/internetarchive/) to find additional children's literature. But you might even look closer to campus. Specifically, the University of Illinois has a one of the largest collection of children's literature that you could consider using as well. You can find links to some of the options here [https://ccb.ischool.illinois.edu/collections-resources/](https://ccb.ischool.illinois.edu/collections-resources/) and I would particularly recommend the School (S)-Collection in the Social Sciences, Health, and Education Library (SSHEL) and HathiTrust Digital Library as potential sources.\n",
    "\n",
    "Indeed, HathiTrust would give you full access to older Children's literature, so if you did want to explore illustrations and other metadata, that might be a good place to start. There's even a great *Programming Historian* lesson on doing image analysis with HathiTrust materials that might be relevant: Stephen Krewson, \"Extracting Illustrated Pages from Digital Libraries with Python,\" *Programming Historian* 8 (2019), [https://doi.org/10.46430/phen0084](https://doi.org/10.46430/phen0084).\n",
    "\n",
    "Overall, I think this dataset is a good start, but I would consider how you might scale up your data collection and also what metadata you might want to collect moving forward."
   ]
  },
  {
   "cell_type": "markdown",
   "metadata": {},
   "source": [
    "### Documentation Feedback\n",
    "\n",
    "I thought your documentation was well structured, though you might consider using Markdown headers rather than bolding for your sections. I thought you did a great job detailing your data collection process, as well as some of the challenges you encountered. \n",
    "\n",
    "I also appreciated that you included information on how you selected which books to include or exclude. I was curious how you were determining \"well-known\" books? Did you mean books that appear in both archives, or did you have some other criteria? I would recommend potentially creating a figure where you annotate a screenshot of one of the archives to show how you were making these decisions and turning the materials into data. A great potential example of this is from the *Shakespeare and Company Project* [https://shakespeareandco.princeton.edu/sources/cards/](https://shakespeareandco.princeton.edu/sources/cards/). \n",
    "\n",
    "As I mentioned above, I do think you could turn your `Content Description` into a Markdown table for readability. I thought your `Responsibility and Contributions` section was particularly helpful and thoughtful, and I appreciated that you not only listed in-depth what each group member contributed but also noted when they worked together on a task. Your group is currently one of the few that has done this, and I think it is a great model for other groups to follow.\n",
    "\n",
    "I do think going forward you could supplement your current documentation with some of the historical research you've done for previous assignments, and also more secondary literature to help situate your project. In particular, you might take a look at the *Journal of Cultural Analytics*, which has some potential relevant articles both specifically on children's literature and more broadly on computational analysis of literature [https://culturalanalytics.org/](https://culturalanalytics.org/).\n",
    "\n",
    "Overall, I think you have a good start on your dataset and documentation, but I would again recommend you consider how you might scale up your data collection and also how that might require you to adjust or augment your documentation moving forward."
   ]
  },
  {
   "cell_type": "markdown",
   "metadata": {},
   "source": [
    "### Progress from Initial Proposal Feedback\n",
    "\n",
    "In the initial proposal, Jess had asked you to address the following questions in your project (paraphrased):\n",
    "\n",
    "- [ ] How will you access the Historical Children’s Literature Collection? Are there other digitized collections you might use?\n",
    "- [ ] How will you supplement the lack of metadata in the Children Stories Text Corpus? Are there other datasets you could use to provide more context?\n",
    "- [ ] How will you use ChatGPT since you mention it in your Materials section?\n",
    "- [ ] How and what will you be web scraping?\n",
    "- [ ] What are your citations and references for the datasets you are using, as well as the scholarship you are referencing?\n",
    "- [ ] How will you get access to full-text children's books and how will that delimit your dataset? \n",
    "\n",
    "Also want to flag that you have yet to merge in Jess's pull request from the initial proposal feedback, so I would encourage you to do that as soon as possible. I am happy to help if you are having trouble with that.\n",
    "\n",
    "My current assessment is that you have completed some of these tasks (for example, accessing the actual collections) but there are some that remain to confront, as well as some new questions for you to address. In particular, I think you need to expand the scale of your data and consider some more programmatic solutions. I also think you need to move your data into a more usable format both for the next stage of your project and future users.\n",
    "\n",
    "As you expand the dataset, I think it will be helpful to pull in both readings we've discussed in class (particularly the ones related to literature) and also some additional scholarship on children's literature and digital humanities. In particular, you will need to start thinking about how you might have multiple datasets if you are working with multiple archives and how you might both keep separate copies and merge these datasets together. I also think you might want to consider including bibliographic metadata that would help make your dataset more useful for future researchers.\n",
    "\n",
    "Finally, if you decide you do want to work with either full text or page illustrations, I would be happy to consult and help you generate some code to help you with that process. I do not think it is necessary for your project, but it might be a nice addition if you are interested in exploring that further. I would also be happy to help troubleshoot the web scraping or working with the Internet Archive or HathiTrust if you are interested in exploring those options.\n",
    "\n",
    "Overall, you are on the right track with your project, but I think addressing some of the concerns I have outlined above will help ensure you are on target to meet the project goals and requirements. Please feel free to reach out to me if you have any questions or concerns about my feedback or how to proceed with the project.\n",
    "\n",
    "### Final Grade\n",
    "\n",
    "Your grade for this assignment is currently a B+. If you can show put your data into a csv, then I would be happy to bump you up to an A-. If you address my concerns above, I think you are on target to a very successful project and I'm very excited to see what you produce in the next few weeks. Also, this grade will be shared with all members of the group, so please let me know if you have any concerns about that."
   ]
  },
  {
   "cell_type": "markdown",
   "metadata": {},
   "source": []
  }
 ],
 "metadata": {
  "kernelspec": {
   "display_name": "data-work-env",
   "language": "python",
   "name": "python3"
  },
  "language_info": {
   "codemirror_mode": {
    "name": "ipython",
    "version": 3
   },
   "file_extension": ".py",
   "mimetype": "text/x-python",
   "name": "python",
   "nbconvert_exporter": "python",
   "pygments_lexer": "ipython3",
   "version": "3.9.20"
  }
 },
 "nbformat": 4,
 "nbformat_minor": 2
}
